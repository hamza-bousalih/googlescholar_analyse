{
 "cells": [
  {
   "cell_type": "code",
   "execution_count": 20,
   "metadata": {},
   "outputs": [],
   "source": [
    "import pandas as pd\n",
    "import numpy as np\n",
    "import seaborn as sns\n",
    "import matplotlib.pyplot as plt\n",
    "import statsmodels.formula.api as smf\n",
    "import statsmodels.api as sm"
   ]
  },
  {
   "cell_type": "code",
   "execution_count": 21,
   "metadata": {},
   "outputs": [
    {
     "data": {
      "text/html": [
       "<div>\n",
       "<style scoped>\n",
       "    .dataframe tbody tr th:only-of-type {\n",
       "        vertical-align: middle;\n",
       "    }\n",
       "\n",
       "    .dataframe tbody tr th {\n",
       "        vertical-align: top;\n",
       "    }\n",
       "\n",
       "    .dataframe thead th {\n",
       "        text-align: right;\n",
       "    }\n",
       "</style>\n",
       "<table border=\"1\" class=\"dataframe\">\n",
       "  <thead>\n",
       "    <tr style=\"text-align: right;\">\n",
       "      <th></th>\n",
       "      <th>Nom et Prénom</th>\n",
       "      <th>ASS - Unevercity</th>\n",
       "      <th>Spciality</th>\n",
       "      <th>H indice global</th>\n",
       "      <th>Citations_global</th>\n",
       "      <th>H indice_I10 global</th>\n",
       "      <th>H indice depuis 2018</th>\n",
       "      <th>Citations depuis 2018</th>\n",
       "      <th>H indice_I10 depuis 2018</th>\n",
       "      <th>Article</th>\n",
       "      <th>faculty</th>\n",
       "    </tr>\n",
       "  </thead>\n",
       "  <tbody>\n",
       "    <tr>\n",
       "      <th>0</th>\n",
       "      <td>salah er-raki</td>\n",
       "      <td>ProcEDE- FST de Marrakech,Université Cadi Ayyad</td>\n",
       "      <td>physique, irrigation, Agricultural Sciences, r...</td>\n",
       "      <td>37</td>\n",
       "      <td>5231</td>\n",
       "      <td>69</td>\n",
       "      <td>34</td>\n",
       "      <td>3308</td>\n",
       "      <td>63</td>\n",
       "      <td>20</td>\n",
       "      <td>FSTG</td>\n",
       "    </tr>\n",
       "    <tr>\n",
       "      <th>1</th>\n",
       "      <td>Abdelkader Outzourhit</td>\n",
       "      <td>Université Cadi Ayyad</td>\n",
       "      <td>Energies renouvelables, PV, Stockage</td>\n",
       "      <td>29</td>\n",
       "      <td>3973</td>\n",
       "      <td>105</td>\n",
       "      <td>22</td>\n",
       "      <td>1899</td>\n",
       "      <td>66</td>\n",
       "      <td>20</td>\n",
       "      <td>Other</td>\n",
       "    </tr>\n",
       "    <tr>\n",
       "      <th>2</th>\n",
       "      <td>Jamal Ezzahar</td>\n",
       "      <td>MISCOM, ENSA Safi,Université Cadi Ayyad Marrakech</td>\n",
       "      <td>Land-atmosphere interactions, Soil Moisture, R...</td>\n",
       "      <td>28</td>\n",
       "      <td>3703</td>\n",
       "      <td>46</td>\n",
       "      <td>26</td>\n",
       "      <td>2399</td>\n",
       "      <td>41</td>\n",
       "      <td>20</td>\n",
       "      <td>ENSA</td>\n",
       "    </tr>\n",
       "    <tr>\n",
       "      <th>3</th>\n",
       "      <td>ouazzani naaila</td>\n",
       "      <td>professeur à l'université Cadi Ayyad, Marrakech</td>\n",
       "      <td>Wastewater treatment and reuse</td>\n",
       "      <td>31</td>\n",
       "      <td>3549</td>\n",
       "      <td>72</td>\n",
       "      <td>26</td>\n",
       "      <td>2502</td>\n",
       "      <td>60</td>\n",
       "      <td>20</td>\n",
       "      <td>Other</td>\n",
       "    </tr>\n",
       "    <tr>\n",
       "      <th>4</th>\n",
       "      <td>Saïd Khabba</td>\n",
       "      <td>Professeur de l'Université Cadi Ayyad</td>\n",
       "      <td>Ressources en eau, Besoin en eau des cultures,...</td>\n",
       "      <td>32</td>\n",
       "      <td>3474</td>\n",
       "      <td>65</td>\n",
       "      <td>28</td>\n",
       "      <td>2490</td>\n",
       "      <td>53</td>\n",
       "      <td>20</td>\n",
       "      <td>Other</td>\n",
       "    </tr>\n",
       "  </tbody>\n",
       "</table>\n",
       "</div>"
      ],
      "text/plain": [
       "           Nom et Prénom                                   ASS - Unevercity  \\\n",
       "0          salah er-raki    ProcEDE- FST de Marrakech,Université Cadi Ayyad   \n",
       "1  Abdelkader Outzourhit                              Université Cadi Ayyad   \n",
       "2          Jamal Ezzahar  MISCOM, ENSA Safi,Université Cadi Ayyad Marrakech   \n",
       "3        ouazzani naaila    professeur à l'université Cadi Ayyad, Marrakech   \n",
       "4            Saïd Khabba              Professeur de l'Université Cadi Ayyad   \n",
       "\n",
       "                                           Spciality  H indice global  \\\n",
       "0  physique, irrigation, Agricultural Sciences, r...               37   \n",
       "1               Energies renouvelables, PV, Stockage               29   \n",
       "2  Land-atmosphere interactions, Soil Moisture, R...               28   \n",
       "3                     Wastewater treatment and reuse               31   \n",
       "4  Ressources en eau, Besoin en eau des cultures,...               32   \n",
       "\n",
       "   Citations_global  H indice_I10 global  H indice depuis 2018  \\\n",
       "0              5231                   69                    34   \n",
       "1              3973                  105                    22   \n",
       "2              3703                   46                    26   \n",
       "3              3549                   72                    26   \n",
       "4              3474                   65                    28   \n",
       "\n",
       "   Citations depuis 2018  H indice_I10 depuis 2018  Article faculty  \n",
       "0                   3308                        63       20    FSTG  \n",
       "1                   1899                        66       20   Other  \n",
       "2                   2399                        41       20    ENSA  \n",
       "3                   2502                        60       20   Other  \n",
       "4                   2490                        53       20   Other  "
      ]
     },
     "execution_count": 21,
     "metadata": {},
     "output_type": "execute_result"
    }
   ],
   "source": [
    "# Create a DataFrame with your data\n",
    "data = pd.read_csv(\"../data/profiles-v2.csv\")\n",
    "df = pd.DataFrame(data)\n",
    "df.head(5)"
   ]
  },
  {
   "cell_type": "code",
   "execution_count": 22,
   "metadata": {},
   "outputs": [
    {
     "data": {
      "image/png": "[encoded data removed]",
      "text/plain": [
       "<Figure size 640x480 with 1 Axes>"
      ]
     },
     "metadata": {},
     "output_type": "display_data"
    }
   ],
   "source": [
    "sns.set()\n",
    "\n",
    "ax = sns.boxplot(x=\"faculty\", y=\"Citations_global\", data=data, color='white')\n",
    "plt.xlabel('faculty')\n",
    "plt.ylabel('Citations global')\n",
    "plt.title('Citations global par faculty')\n",
    "plt.show()"
   ]
  },
  {
   "cell_type": "code",
   "execution_count": 24,
   "metadata": {},
   "outputs": [
    {
     "name": "stdout",
     "output_type": "stream",
     "text": [
      "                            OLS Regression Results                            \n",
      "==============================================================================\n",
      "Dep. Variable:       Citations_global   R-squared:                       0.200\n",
      "Model:                            OLS   Adj. R-squared:                  0.050\n",
      "Method:                 Least Squares   F-statistic:                     1.330\n",
      "Date:                Tue, 26 Dec 2023   Prob (F-statistic):              0.299\n",
      "Time:                        19:17:03   Log-Likelihood:                -162.83\n",
      "No. Observations:                  20   AIC:                             333.7\n",
      "Df Residuals:                      16   BIC:                             337.6\n",
      "Df Model:                           3                                         \n",
      "Covariance Type:            nonrobust                                         \n",
      "====================================================================================\n",
      "                       coef    std err          t      P>|t|      [0.025      0.975]\n",
      "------------------------------------------------------------------------------------\n",
      "Intercept         3703.0000    928.886      3.986      0.001    1733.850    5672.150\n",
      "faculty[T.FSSM]  -1197.0000   1313.643     -0.911      0.376   -3981.799    1587.799\n",
      "faculty[T.FSTG]    -35.0000   1072.585     -0.033      0.974   -2308.779    2238.779\n",
      "faculty[T.Other] -1051.3333    959.349     -1.096      0.289   -3085.063     982.396\n",
      "==============================================================================\n",
      "Omnibus:                        1.390   Durbin-Watson:                   0.543\n",
      "Prob(Omnibus):                  0.499   Jarque-Bera (JB):                0.879\n",
      "Skew:                           0.060   Prob(JB):                        0.644\n",
      "Kurtosis:                       1.980   Cond. No.                         12.0\n",
      "==============================================================================\n",
      "\n",
      "Notes:\n",
      "[1] Standard Errors assume that the covariance matrix of the errors is correctly specified.\n"
     ]
    }
   ],
   "source": [
    "anova_variete = smf.ols('Citations_global~faculty', data=data).fit()\n",
    "print(anova_variete.summary())"
   ]
  },
  {
   "cell_type": "code",
   "execution_count": null,
   "metadata": {},
   "outputs": [],
   "source": []
  }
 ],
 "metadata": {
  "kernelspec": {
   "display_name": "Python 3",
   "language": "python",
   "name": "python3"
  },
  "language_info": {
   "codemirror_mode": {
    "name": "ipython",
    "version": 3
   },
   "file_extension": ".py",
   "mimetype": "text/x-python",
   "name": "python",
   "nbconvert_exporter": "python",
   "pygments_lexer": "ipython3",
   "version": "3.11.4"
  }
 },
 "nbformat": 4,
 "nbformat_minor": 2
}
