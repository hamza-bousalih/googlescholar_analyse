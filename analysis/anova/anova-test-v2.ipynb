{
 "cells": [
  {
   "cell_type": "code",
   "execution_count": 1,
   "metadata": {},
   "outputs": [],
   "source": [
    "import pandas as pd\n",
    "import numpy as np\n",
    "import seaborn as sns\n",
    "import matplotlib.pyplot as plt\n",
    "import statsmodels.formula.api as smf\n",
    "import statsmodels.api as sm"
   ]
  },
  {
   "cell_type": "code",
   "execution_count": 2,
   "metadata": {},
   "outputs": [
    {
     "data": {
      "text/html": [
       "<div>\n",
       "<style scoped>\n",
       "    .dataframe tbody tr th:only-of-type {\n",
       "        vertical-align: middle;\n",
       "    }\n",
       "\n",
       "    .dataframe tbody tr th {\n",
       "        vertical-align: top;\n",
       "    }\n",
       "\n",
       "    .dataframe thead th {\n",
       "        text-align: right;\n",
       "    }\n",
       "</style>\n",
       "<table border=\"1\" class=\"dataframe\">\n",
       "  <thead>\n",
       "    <tr style=\"text-align: right;\">\n",
       "      <th></th>\n",
       "      <th>Nom et Prénom</th>\n",
       "      <th>ASS - Unevercity</th>\n",
       "      <th>Spciality</th>\n",
       "      <th>H indice global</th>\n",
       "      <th>Citations global</th>\n",
       "      <th>H indie_cI10 global</th>\n",
       "      <th>H indice depuis 2018</th>\n",
       "      <th>Citations depuis 2018</th>\n",
       "      <th>H indice_I10 depuis 2018</th>\n",
       "      <th>Article Count</th>\n",
       "      <th>faculty</th>\n",
       "    </tr>\n",
       "  </thead>\n",
       "  <tbody>\n",
       "    <tr>\n",
       "      <th>0</th>\n",
       "      <td>salah er-raki</td>\n",
       "      <td>ProcEDE- FST de Marrakech,Université Cadi Ayyad</td>\n",
       "      <td>physique, irrigation, Agricultural Sciences, r...</td>\n",
       "      <td>37</td>\n",
       "      <td>5231</td>\n",
       "      <td>69</td>\n",
       "      <td>34</td>\n",
       "      <td>3308</td>\n",
       "      <td>63</td>\n",
       "      <td>20</td>\n",
       "      <td>FSTG</td>\n",
       "    </tr>\n",
       "    <tr>\n",
       "      <th>1</th>\n",
       "      <td>Abdelkader Outzourhit</td>\n",
       "      <td>Université Cadi Ayyad</td>\n",
       "      <td>Energies renouvelables, PV, Stockage</td>\n",
       "      <td>29</td>\n",
       "      <td>3973</td>\n",
       "      <td>105</td>\n",
       "      <td>22</td>\n",
       "      <td>1899</td>\n",
       "      <td>66</td>\n",
       "      <td>20</td>\n",
       "      <td>Other</td>\n",
       "    </tr>\n",
       "    <tr>\n",
       "      <th>2</th>\n",
       "      <td>Jamal Ezzahar</td>\n",
       "      <td>MISCOM, ENSA Safi,Université Cadi Ayyad Marrakech</td>\n",
       "      <td>Land-atmosphere interactions, Soil Moisture, R...</td>\n",
       "      <td>28</td>\n",
       "      <td>3703</td>\n",
       "      <td>46</td>\n",
       "      <td>26</td>\n",
       "      <td>2399</td>\n",
       "      <td>41</td>\n",
       "      <td>20</td>\n",
       "      <td>ENSA</td>\n",
       "    </tr>\n",
       "    <tr>\n",
       "      <th>3</th>\n",
       "      <td>ouazzani naaila</td>\n",
       "      <td>professeur à l'université Cadi Ayyad, Marrakech</td>\n",
       "      <td>Wastewater treatment and reuse</td>\n",
       "      <td>31</td>\n",
       "      <td>3549</td>\n",
       "      <td>72</td>\n",
       "      <td>26</td>\n",
       "      <td>2502</td>\n",
       "      <td>60</td>\n",
       "      <td>20</td>\n",
       "      <td>NaN</td>\n",
       "    </tr>\n",
       "    <tr>\n",
       "      <th>4</th>\n",
       "      <td>Saïd Khabba</td>\n",
       "      <td>Professeur de l'Université Cadi Ayyad</td>\n",
       "      <td>Ressources en eau, Besoin en eau des cultures,...</td>\n",
       "      <td>32</td>\n",
       "      <td>3474</td>\n",
       "      <td>65</td>\n",
       "      <td>28</td>\n",
       "      <td>2490</td>\n",
       "      <td>53</td>\n",
       "      <td>20</td>\n",
       "      <td>NaN</td>\n",
       "    </tr>\n",
       "  </tbody>\n",
       "</table>\n",
       "</div>"
      ],
      "text/plain": [
       "           Nom et Prénom                                   ASS - Unevercity  \\\n",
       "0          salah er-raki    ProcEDE- FST de Marrakech,Université Cadi Ayyad   \n",
       "1  Abdelkader Outzourhit                              Université Cadi Ayyad   \n",
       "2          Jamal Ezzahar  MISCOM, ENSA Safi,Université Cadi Ayyad Marrakech   \n",
       "3        ouazzani naaila    professeur à l'université Cadi Ayyad, Marrakech   \n",
       "4            Saïd Khabba              Professeur de l'Université Cadi Ayyad   \n",
       "\n",
       "                                           Spciality  H indice global  \\\n",
       "0  physique, irrigation, Agricultural Sciences, r...               37   \n",
       "1               Energies renouvelables, PV, Stockage               29   \n",
       "2  Land-atmosphere interactions, Soil Moisture, R...               28   \n",
       "3                     Wastewater treatment and reuse               31   \n",
       "4  Ressources en eau, Besoin en eau des cultures,...               32   \n",
       "\n",
       "   Citations global  H indie_cI10 global  H indice depuis 2018  \\\n",
       "0              5231                   69                    34   \n",
       "1              3973                  105                    22   \n",
       "2              3703                   46                    26   \n",
       "3              3549                   72                    26   \n",
       "4              3474                   65                    28   \n",
       "\n",
       "   Citations depuis 2018  H indice_I10 depuis 2018  Article Count faculty  \n",
       "0                   3308                        63             20    FSTG  \n",
       "1                   1899                        66             20   Other  \n",
       "2                   2399                        41             20    ENSA  \n",
       "3                   2502                        60             20     NaN  \n",
       "4                   2490                        53             20     NaN  "
      ]
     },
     "execution_count": 2,
     "metadata": {},
     "output_type": "execute_result"
    }
   ],
   "source": [
    "# Create a DataFrame with your data\n",
    "data = pd.read_csv(\"../data/profiles.csv\")\n",
    "df = pd.DataFrame(data)\n",
    "df.head(5)"
   ]
  },
  {
   "cell_type": "code",
   "execution_count": 4,
   "metadata": {},
   "outputs": [
    {
     "data": {
      "image/png": "[encoded data removed]",
      "text/plain": [
       "<Figure size 640x480 with 1 Axes>"
      ]
     },
     "metadata": {},
     "output_type": "display_data"
    }
   ],
   "source": [
    "sns.set()\n",
    "\n",
    "ax = sns.boxplot(x=\"faculty\", y=\"Citations global\", data=data, color='white')\n",
    "plt.xlabel('faculty')\n",
    "plt.ylabel('Citations global')\n",
    "plt.title('Citations global par faculty')\n",
    "plt.show()"
   ]
  },
  {
   "cell_type": "code",
   "execution_count": null,
   "metadata": {},
   "outputs": [],
   "source": []
  }
 ],
 "metadata": {
  "kernelspec": {
   "display_name": "Python 3",
   "language": "python",
   "name": "python3"
  },
  "language_info": {
   "codemirror_mode": {
    "name": "ipython",
    "version": 3
   },
   "file_extension": ".py",
   "mimetype": "text/x-python",
   "name": "python",
   "nbconvert_exporter": "python",
   "pygments_lexer": "ipython3",
   "version": "3.11.4"
  }
 },
 "nbformat": 4,
 "nbformat_minor": 2
}
