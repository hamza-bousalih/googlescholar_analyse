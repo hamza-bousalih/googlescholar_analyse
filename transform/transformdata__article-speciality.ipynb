{
 "cells": [
  {
   "cell_type": "code",
   "execution_count": 67,
   "metadata": {
    "ExecuteTime": {
     "end_time": "2023-12-31T13:26:49.476410200Z",
     "start_time": "2023-12-31T13:26:49.312857800Z"
    }
   },
   "outputs": [],
   "source": [
    "import json, copy, re\n",
    "import pandas as pd"
   ]
  },
  {
   "cell_type": "code",
   "outputs": [],
   "source": [
    "specialties_groups = {\n",
    "    'Agricultural Sciences': [\n",
    "        'Agrophysiologie', 'Besoin en eau des cultures', 'Biotechnologies végétales', \n",
    "        'Ressources en eau', 'Actinobactéries'\n",
    "    ],\n",
    "    'Energy and Renewable Resources': [\n",
    "        'Energies renouvelables', 'PV', 'Stockage', 'Solar energy', 'Li-ion Batteries', 'Energie storage', 'Photovoltaic systems', 'PVT systems'\n",
    "    ],\n",
    "    'Environmental Science': [\n",
    "        'Hydrogéologie', 'Hydrologie', 'Hydrochemistry', 'Isotopes', 'sciences des matériaux', 'Géologie', 'Climatologie', 'Environnement', 'Integrated Water resources management', 'climate change and climate variability and their impact on water resources', 'Modelling and numerical simulation on environmental sciences', 'Wastewater treatment and reuse', 'sorption isotherms', 'thermophysical characterization', 'Water treatment', 'Water resources management', 'Recyclage et valorisation des déchets', 'traitement et stabilisation des matériaux', 'Environmental Management'\n",
    "    ],\n",
    "    'Materials Science': [\n",
    "        'Physics', 'Biomaterials', 'ceramics', 'natural fibres', 'composites', 'materials science', 'sciences des matériaux', 'Chemistry', 'Adsorption', 'Materials Science', 'Polymer and Nanocomposites Materials', 'spectroscopie d\\'impédance', 'thin films', 'Génie Civil', 'géotechnique', 'structure', 'Recyclage et valorisation des déchets', 'traitement et stabilisation des matériaux', 'Materials science', 'traditional ceramics', 'clays & chemical pollutants', 'thin films', 'selective absorber', 'metal oxide', 'sputtering', 'thin films', 'PDEs  Control Theory  Operator Semigroups'\n",
    "    ],\n",
    "    'Geology and Geophysics': [\n",
    "        'Tectonic and Regional Geology', 'Geology Geophysics', 'Geotechnics', 'Hydrogeology', 'structural Geology-Geochemistry'\n",
    "    ],\n",
    "    'Mathematics and Computational Sciences': [\n",
    "        'Numerical methods', 'Scientific computing', 'Applied Mathematics', 'computational physics', 'Calcul Stochasitque', 'big data', 'maching learning', 'Deep learning', 'Artificial Intelligence', 'Pattern Recognition', 'Machine Learning', 'Artificial Intelligence', 'Machine Learning', 'Intelligent Environments', 'Data Analytics', 'IoT', 'machine learning', 'deep learning', 'pattern recognition', 'medical imaging', 'computer vision', 'Pattern Recognition', 'Image and Video Processing', 'Computer Sciences', 'Computers & Operations research', 'Computational Fluid Dynamics', 'Control theory: controllability and stabilization', 'Model Driven architectures', 'Computers & Operations research', 'Information system engineering', 'Data analytics', 'decision support systems', 'multiagent systems', 'Model Driven architectures', 'Artificial Intelligence', 'Internet Of Things', 'Electrochemistry', 'Polymer and Nanocomposites Materials', 'Materials Science', 'Chemistry', 'Computer Vision', 'Pattern Recognition', 'Machine Learning', 'Artificial Intelligence', 'Machine Learning', 'Intelligent Environments', 'Data Analytics', 'IoT'\n",
    "    ],\n",
    "    'Physics': [\n",
    "        'Physics', 'Drug discovery and computational chemistry', 'Theoretical physics', 'Nuclear Physics', 'Quantum Mechanics', 'Mathematical Physics', 'Computational Physics.', 'physics- Black Hole Thermodynamics- Exoplanets - Cosmology', 'ferroelectricité', 'spectroscopie d\\'impédance', 'Génie Civil', 'géotechnique', 'structure'\n",
    "    ],\n",
    "    'Biotechnology': [\n",
    "        'biotechnologie microbienne', 'solubilisation des phosphate', 'production d\\'antibiotique', 'Bioactive compounds', 'Functionalities', 'Biochimie', 'microbiologie', 'Biotechnologies végétles', 'Apatites', 'Calcium Phosphates', 'Adsorption', 'Drug Delivery', 'Nanobiotechnology', 'Biodiversité et Biotechnologie algale'\n",
    "    ],\n",
    "    'Medicine and Health Sciences': [\n",
    "        'Medicine', 'Hémodynamique', 'sepsis', 'ventilation mécanique', 'Fluides', 'état de choc.', 'Neurosciences', 'food processing', 'food quality', 'swarm Intelligence', 'Combinatorial Optimization', 'Bio-inspired Metaheuristics', 'Control theory', 'Positive systems'\n",
    "    ],\n",
    "    'Geography and Tourism': [\n",
    "        'géographie physique', 'Géomorphologie littorale', 'Géologie', 'Hydrologie', 'Climatologie', 'Hydrogéologie', 'Environnement', 'Géographie', 'tourisme', 'développement territorial', 'Montagne', 'Maroc', 'Efficacité énergétique dans le bâtiment'\n",
    "    ],\n",
    "    'Electrical Engineering': [\n",
    "        'Induction motor drive and sensorless control', 'GIS', 'Data analysis', 'Geoinformatic', 'Hydrology', 'Cloud Computing', 'Cloud security', 'IDS', 'Multi-Agent System', 'thin films', 'PDEs  Control Theory  Operator Semigroups', 'semiconductor devices', 'optoelectronics', 'Stochastic differential Equations', 'Environment', 'Ecology', 'Plant Physiology', 'Agrifoods', 'Wastewater treatment', 'Agrodiversité', 'Ressources Phytogénétiques', 'Ecotoxicologie', 'Mathématiques appliquées', 'Informatique', 'Automatique', 'ressources naturelles', 'géologie', 'Swarm Intelligence', 'Combinatorial Optimization', 'Bio-inspired Metaheuristics', 'Control theory', 'Positive systems'\n",
    "    ],\n",
    "}\n"
   ],
   "metadata": {
    "collapsed": false,
    "ExecuteTime": {
     "end_time": "2023-12-31T13:26:49.545856300Z",
     "start_time": "2023-12-31T13:26:49.492412500Z"
    }
   },
   "execution_count": 68
  },
  {
   "cell_type": "code",
   "execution_count": 69,
   "metadata": {
    "ExecuteTime": {
     "end_time": "2023-12-31T13:26:49.766870600Z",
     "start_time": "2023-12-31T13:26:49.517855100Z"
    }
   },
   "outputs": [],
   "source": [
    "with open(\"uca.json\", 'r') as file:\n",
    "    data = json.load(file)\n",
    "    \n",
    "articles_data = copy.deepcopy(data)"
   ]
  },
  {
   "cell_type": "markdown",
   "metadata": {
    "collapsed": false
   },
   "source": [
    "# Transform Article Data"
   ]
  },
  {
   "cell_type": "code",
   "execution_count": 70,
   "metadata": {
    "ExecuteTime": {
     "end_time": "2023-12-31T13:26:49.846272300Z",
     "start_time": "2023-12-31T13:26:49.697085600Z"
    }
   },
   "outputs": [
    {
     "name": "stdout",
     "output_type": "stream",
     "text": [
      "1871\n"
     ]
    },
    {
     "data": {
      "text/plain": "                                            Nom Article  \\\n0     Evapotranspiration components determined by st...   \n1     Monitoring wheat phenology and irrigation in C...   \n2     Combining FAO-56 model and ground-based remote...   \n3     The use of high‐resolution image time series f...   \n4     Performance assessment of AquaCrop model for e...   \n...                                                 ...   \n1866  Electrical impedance spectroscopy characteriza...   \n1867  Effect of RF power on the structural and optic...   \n1868  Reactively sputtered cobalt oxide coatings for...   \n1869  Controlled Synthesis of Oriented Zinc Oxide Na...   \n1870  A newly-designed ZnO/CdS/CuO: Co solar cell an...   \n\n                                            description  \\\n0     Agricultural and forest meteorology 125 (3-4),...   \n1      Agricultural Water Management 79 (1), 1-27, 2006   \n2     Agricultural water management 87 (1), 41-54, 2007   \n3     International Journal of Remote Sensing 29 (1)...   \n4      Agricultural Water Management 163, 219-235, 2016   \n...                                                 ...   \n1866       Physica B: Condensed Matter 572, 76-80, 2019   \n1867    Journal of Semiconductors 39 (12), 123001, 2018   \n1868                 Materials Today: Proceedings, 2020   \n1869           Journal of Nano Research 67, 15-24, 2021   \n1870    Journal of Solar Energy Engineering, 1-12, 2020   \n\n                                                 auteur Annee cite par  \n0     DG Williams, W Cable, K Hultine, JCB Hoedjes, ...  2004      570  \n1     VS B. Duchemin, R. Hadria, S. Er-raki, G. Boul...  2006      518  \n2     S Er-Raki, A Chehbouni, N Guemouria, B Duchemi...  2007      330  \n3     V Simonneaux, B Duchemin, D Helson, S Er‐Raki,...  2008      238  \n4     J Toumi, S Er-Raki, J Ezzahar, S Khabba, L Jar...  2016      161  \n...                                                 ...   ...      ...  \n1866  M Chaik, SB Moumen, A Agdad, CM SambaVall, H E...  2019       10  \n1867  CMS Vall, M Chaik, HA Dads, H El Aakib, M Elya...  2018        8  \n1868     H El Aakib, N Rochdi, JF Pierson, A Outzourhit  2020        5  \n1869  L Nkhaili, A El Kissani, H El Aakib, A Abbassi...  2021        4  \n1870  L Nkhaili, H ElAakib, CT Liang, A Narjis, H Ai...  2020        2  \n\n[1871 rows x 5 columns]",
      "text/html": "<div>\n<style scoped>\n    .dataframe tbody tr th:only-of-type {\n        vertical-align: middle;\n    }\n\n    .dataframe tbody tr th {\n        vertical-align: top;\n    }\n\n    .dataframe thead th {\n        text-align: right;\n    }\n</style>\n<table border=\"1\" class=\"dataframe\">\n  <thead>\n    <tr style=\"text-align: right;\">\n      <th></th>\n      <th>Nom Article</th>\n      <th>description</th>\n      <th>auteur</th>\n      <th>Annee</th>\n      <th>cite par</th>\n    </tr>\n  </thead>\n  <tbody>\n    <tr>\n      <th>0</th>\n      <td>Evapotranspiration components determined by st...</td>\n      <td>Agricultural and forest meteorology 125 (3-4),...</td>\n      <td>DG Williams, W Cable, K Hultine, JCB Hoedjes, ...</td>\n      <td>2004</td>\n      <td>570</td>\n    </tr>\n    <tr>\n      <th>1</th>\n      <td>Monitoring wheat phenology and irrigation in C...</td>\n      <td>Agricultural Water Management 79 (1), 1-27, 2006</td>\n      <td>VS B. Duchemin, R. Hadria, S. Er-raki, G. Boul...</td>\n      <td>2006</td>\n      <td>518</td>\n    </tr>\n    <tr>\n      <th>2</th>\n      <td>Combining FAO-56 model and ground-based remote...</td>\n      <td>Agricultural water management 87 (1), 41-54, 2007</td>\n      <td>S Er-Raki, A Chehbouni, N Guemouria, B Duchemi...</td>\n      <td>2007</td>\n      <td>330</td>\n    </tr>\n    <tr>\n      <th>3</th>\n      <td>The use of high‐resolution image time series f...</td>\n      <td>International Journal of Remote Sensing 29 (1)...</td>\n      <td>V Simonneaux, B Duchemin, D Helson, S Er‐Raki,...</td>\n      <td>2008</td>\n      <td>238</td>\n    </tr>\n    <tr>\n      <th>4</th>\n      <td>Performance assessment of AquaCrop model for e...</td>\n      <td>Agricultural Water Management 163, 219-235, 2016</td>\n      <td>J Toumi, S Er-Raki, J Ezzahar, S Khabba, L Jar...</td>\n      <td>2016</td>\n      <td>161</td>\n    </tr>\n    <tr>\n      <th>...</th>\n      <td>...</td>\n      <td>...</td>\n      <td>...</td>\n      <td>...</td>\n      <td>...</td>\n    </tr>\n    <tr>\n      <th>1866</th>\n      <td>Electrical impedance spectroscopy characteriza...</td>\n      <td>Physica B: Condensed Matter 572, 76-80, 2019</td>\n      <td>M Chaik, SB Moumen, A Agdad, CM SambaVall, H E...</td>\n      <td>2019</td>\n      <td>10</td>\n    </tr>\n    <tr>\n      <th>1867</th>\n      <td>Effect of RF power on the structural and optic...</td>\n      <td>Journal of Semiconductors 39 (12), 123001, 2018</td>\n      <td>CMS Vall, M Chaik, HA Dads, H El Aakib, M Elya...</td>\n      <td>2018</td>\n      <td>8</td>\n    </tr>\n    <tr>\n      <th>1868</th>\n      <td>Reactively sputtered cobalt oxide coatings for...</td>\n      <td>Materials Today: Proceedings, 2020</td>\n      <td>H El Aakib, N Rochdi, JF Pierson, A Outzourhit</td>\n      <td>2020</td>\n      <td>5</td>\n    </tr>\n    <tr>\n      <th>1869</th>\n      <td>Controlled Synthesis of Oriented Zinc Oxide Na...</td>\n      <td>Journal of Nano Research 67, 15-24, 2021</td>\n      <td>L Nkhaili, A El Kissani, H El Aakib, A Abbassi...</td>\n      <td>2021</td>\n      <td>4</td>\n    </tr>\n    <tr>\n      <th>1870</th>\n      <td>A newly-designed ZnO/CdS/CuO: Co solar cell an...</td>\n      <td>Journal of Solar Energy Engineering, 1-12, 2020</td>\n      <td>L Nkhaili, H ElAakib, CT Liang, A Narjis, H Ai...</td>\n      <td>2020</td>\n      <td>2</td>\n    </tr>\n  </tbody>\n</table>\n<p>1871 rows × 5 columns</p>\n</div>"
     },
     "execution_count": 70,
     "metadata": {},
     "output_type": "execute_result"
    }
   ],
   "source": [
    "articles = [article for item in articles_data for article in item[\"Article\"]]\n",
    "print(len(articles))\n",
    "pd.DataFrame(articles)"
   ]
  },
  {
   "cell_type": "code",
   "outputs": [
    {
     "name": "stdout",
     "output_type": "stream",
     "text": [
      "physique\n",
      "irrigation\n",
      "Agricultural Sciences\n",
      "remote sensing\n",
      "Geoscience\n",
      "Energies renouvelables\n",
      "PV\n",
      "Stockage\n",
      "Land-atmosphere interactions\n",
      "Soil Moisture\n",
      "Remote sensing\n",
      "Evapotranspiration\n",
      "Physics\n",
      "Wastewater treatment and reuse\n",
      "Ressources en eau\n",
      "Besoin en eau des cultures\n",
      "modèles\n",
      "télédétection\n",
      "semi-aride\n",
      "modélisation des systèmes complexes et analyse mathématique\n",
      "Tectonic and Regional Geology\n",
      "Agrophysiologie\n",
      "Actinobactéries\n",
      "biotechnologie microbienne\n",
      "solubilisation des phosphate\n",
      "production d'antibiotique\n",
      "Biotechnologies végétles\n",
      "Apatites\n",
      "Calcium Phosphates\n",
      "Adsorption\n",
      "Drug Delivery\n",
      "Biomaterials\n",
      "Lipids quality and technology\n",
      "Membrane separation\n",
      "Emulsification\n",
      "Bioactive compounds\n",
      "Functionalities\n",
      "Hydrogéologie\n",
      "télédétection\n",
      "Hydrologie nivale\n",
      "adsorption  décontamination plan d'expérience DFT\n",
      "Valorization and Conservation of Medicinal and Aromatic Plants\n",
      "Materials science\n",
      "traditional ceramics\n",
      "clays & chemical pollutants\n",
      "Energy Efficiency in Buildings\n",
      "Heat and Mass Transfer\n",
      "Desalination\n",
      "Computational Fluid Dynamics\n",
      "Control theory: controllability and stabilization\n",
      "Water treatment\n",
      "biomaterials\n",
      "nanocomposites\n",
      "smart irrigation\n",
      "Material science\n",
      "Sciences des matériaux\n",
      "Cellules photovoltaiques\n",
      "Fixed point theory\n",
      "Partial differential equations\n",
      "Integral equations\n",
      "semigroup theory\n",
      "Groundwater\n",
      "Modeling\n",
      "Remote sensing\n",
      "Hydrochemistry\n",
      "Isotopes\n",
      "sciences des matériaux\n",
      "Information system engineering\n",
      "Data analytics\n",
      "decision support systems\n",
      "multiagent systems\n",
      "Model Driven architectures\n",
      "Computers & Operations research\n",
      "Molecular Genetics\n",
      "Nanobiotechnology\n",
      "Structural Geology-Geochemistry\n",
      "Plant biotechnoloy and physiology\n",
      "Physics of Semiconductor Materials\n",
      "Point Defects\n",
      "Semiconductor Photovoltaic Devices & Solar Cells\n",
      "Physics of Semiconductor De\n",
      "Swarm Intelligence\n",
      "Combinatorial Optimization\n",
      "Bio-inspired Metaheuristics\n",
      "Hémodynamique\n",
      "sepsis\n",
      "ventilation mécanique\n",
      "Fluides\n",
      "état de choc.\n",
      "géographie physique\n",
      "Géomorphologie littorale\n",
      "Modelling and numerical simulation on environmental sciences\n",
      "Integrated Water resources management\n",
      "climate change and climate variability and their impact on water resources\n",
      "Géologie\n",
      "Hydrologie\n",
      "Climatologie\n",
      "Hydrogéologie\n",
      "Environnement\n",
      "materials science\n",
      "ceramics\n",
      "natural fibres\n",
      "composites\n",
      "energy\n",
      "Geology Geophysics\n",
      "Geotechnics\n",
      "Hydrogeology\n",
      "Medicine\n",
      "Biochimie\n",
      "microbiologie\n",
      "toxicologie\n",
      "Applied Mathematics\n",
      "Numerical methods\n",
      "Scientific computing\n",
      "polymères\n",
      "composites\n",
      "nanotubes de carbone\n",
      "Plant Biochemistry physiology and biotechnolog\n",
      "Agricultural plant science\n",
      "Ecotoxicology\n",
      "Corrosion\n",
      "Electrochemistry\n",
      "Green inhibition\n",
      "Chemistry\n",
      "Adsorption\n",
      "Materials Science\n",
      "Energie storage\n",
      "Electrochemistry\n",
      "Li-ion Batteries.\n",
      "Calcul Stochasitque\n",
      "Photovoltaic systems\n",
      "Prediction\n",
      "PVT systems\n",
      "Soling\n",
      "Photovoltaic module degradation\n",
      "physics- Black Hole Thermodynamics- Exoplanets - Cosmology\n",
      "Drug discovery and computational chemistry\n",
      "Applied Geophysics\n",
      "Evolution equations\n",
      "Control theory\n",
      "Positive systems\n",
      "Solar energy\n",
      "food processing\n",
      "food quality\n",
      "sorption isotherms\n",
      "thermophysical characterization\n",
      "cristallographie\n",
      "Géographie\n",
      "tourisme\n",
      "développement territorial\n",
      "Montagne\n",
      "Maroc\n",
      "Efficacité énergétique dans le bâtiment\n",
      "semiconductor devices\n",
      "optoelectronics\n",
      "Stochastic differential Equations\n",
      "Environment\n",
      "Ecology\n",
      "Plant Physiology\n",
      "Agrifoods\n",
      "Wastewater treatment\n",
      "Agrodiversité\n",
      "Ressources Phytogénétiques\n",
      "Ecotoxicologie\n",
      "Mathématiques appliquées\n",
      "Informatique\n",
      "Automatique\n",
      "ressources naturelles\n",
      "géologie\n",
      "Theoretical physics\n",
      "Gravitational Physics\n",
      "Cosmology\n",
      "General Relativity\n",
      "High Energy PhysicsConformal Field Theory\n",
      "ENT\n",
      "Biodiversité et Biotechnologie algale\n",
      "Artificial Intelligence\n",
      "Internet Of Things\n",
      "Electrochemistry\n",
      "Polymer and Nanocomposites Materials\n",
      "Materials Science\n",
      "Chemistry\n",
      "Computer Vision\n",
      "Pattern Recognition\n",
      "Machine Learning\n",
      "Artificial Intelligence\n",
      "Machine Learning\n",
      "Intelligent Environments\n",
      "Data Analytics\n",
      "IoT\n",
      "Sédimentologie\n",
      "Ichnologie\n",
      "Pattern Recognition\n",
      "Image and Video Processing\n",
      "thin films\n",
      "PDEs  Control Theory  Operator Semigroups\n",
      "machine learning\n",
      "deep learning\n",
      "pattern recognition\n",
      "medical imaging\n",
      "computer vision\n",
      "Exoplanets\n",
      "chimie des matériaux\n",
      "big data\n",
      "maching learning\n",
      "Deep learning\n",
      "Artificial Intelligence\n",
      "Theoretical physics\n",
      "Nuclear Physics\n",
      "Quantum Mechanics\n",
      "Mathematical Physics\n",
      "Computational Physics.\n",
      "ferroelectricité\n",
      "spectroscopie d'impédance\n",
      "Génie Civil\n",
      "géotechnique\n",
      "structure\n",
      "Recyclage et valorisation des déchets\n",
      "traitement et stabilisation des matériaux\n",
      "Computer Sciences\n",
      "Matériaux valorisation recyclage procédé\n",
      "Economics\n",
      "Plant biology\n",
      "Induction motor drive and sensorless control\n",
      "GIS\n",
      "Data analysis\n",
      "Geoinformatic\n",
      "Hydrology\n",
      "Cloud Computing\n",
      "Cloud security\n",
      "IDS\n",
      "Multi-Agent System\n",
      "Food toxicology\n",
      "Ecotoxicology\n",
      "Environmental Management\n",
      "Computer sciences\n",
      "image and video analysis\n",
      "Mécanique des fluides et énergétique\n",
      "Neurosciences\n",
      "Matériaux et procédés pour l'énergie\n",
      "Thin films\n",
      "selective absorber\n",
      "metal oxide\n",
      "sputtering\n"
     ]
    }
   ],
   "source": [
    "# Assuming articles is a list of articles based on your provided code\n",
    "articles = [article for item in articles_data for article in item[\"Article\"]]\n",
    "\n",
    "# Add a new column \"specialties\" to each article\n",
    "articles_with_specialties = [{\"article\": article, \"specialties\": specialty} for article, specialty in zip(articles, [item[\"Spciality\"] for item in articles_data for _ in item[\"Article\"]])]\n",
    "\n",
    "#print(len(articles_with_specialties))\n",
    "for item in articles_data:\n",
    "    for specialty in item[\"Spciality\"]:\n",
    "        print(specialty)"
   ],
   "metadata": {
    "collapsed": false,
    "ExecuteTime": {
     "end_time": "2023-12-31T13:26:49.946278500Z",
     "start_time": "2023-12-31T13:26:49.770867800Z"
    }
   },
   "execution_count": 71
  },
  {
   "cell_type": "code",
   "outputs": [
    {
     "name": "stdout",
     "output_type": "stream",
     "text": [
      "3587\n"
     ]
    },
    {
     "data": {
      "text/plain": "{'Nom Article': 'Preparation and characterization of pyrolytic spray deposited electrochromic tungsten trioxide films',\n 'description': 'Thin solid films 358 (1-2), 40-45, 2000',\n 'auteur': 'M Regragui, M Addou, A Outzourhit, JC Bernede, E El Idrissi, ...',\n 'Annee': '2000',\n 'cite par': '176',\n 'Speciality': 'Energy and Renewable Resources'}"
     },
     "execution_count": 72,
     "metadata": {},
     "output_type": "execute_result"
    }
   ],
   "source": [
    "article_specialty = []\n",
    "\n",
    "for item in articles_with_specialties:\n",
    "    for specialty in item[\"specialties\"]:\n",
    "        newitem = copy.deepcopy(item[\"article\"])\n",
    "        for group, specialties in specialties_groups.items():\n",
    "            if specialty in specialties:\n",
    "                specialty = group\n",
    "                newitem[\"Speciality\"] = specialty\n",
    "                article_specialty.append(newitem)\n",
    "\n",
    "#article_specialty_df = pd.DataFrame(article_specialty)\n",
    "#article_specialty_df = article_specialty_df.drop_duplicates(subset=[\"Nom Article\", \"Speciality\"])\n",
    "#print(article_specialty_df.shape)\n",
    "#article_specialty_df\n",
    "print(len(article_specialty))\n",
    "article_specialty[0]"
   ],
   "metadata": {
    "collapsed": false,
    "ExecuteTime": {
     "end_time": "2023-12-31T13:26:50.691225Z",
     "start_time": "2023-12-31T13:26:49.814276700Z"
    }
   },
   "execution_count": 72
  },
  {
   "cell_type": "code",
   "execution_count": 73,
   "metadata": {
    "collapsed": false,
    "ExecuteTime": {
     "end_time": "2023-12-31T13:26:50.822894900Z",
     "start_time": "2023-12-31T13:26:50.088031Z"
    }
   },
   "outputs": [],
   "source": [
    "def decompose_description(description):\n",
    "    # print(description)\n",
    "    first_digit_index = next((i for i, c in enumerate(description) if c.isdigit()), None)\n",
    "\n",
    "    article_revue = description[:first_digit_index].strip()\n",
    "    remaining_info = description[first_digit_index:].strip()\n",
    "\n",
    "    components = [item.strip() for item in remaining_info.split(',')]\n",
    "    # print(components)\n",
    "    volume_number = \"\"\n",
    "    year = \"\"\n",
    "    pages = \"\"\n",
    "    volume = \"\"\n",
    "    number = \"\"\n",
    "    # Extracting values\n",
    "    if len(components) == 1:\n",
    "        year = components[0]\n",
    "    else:\n",
    "        volume_number = components[0]\n",
    "        if len(components)>2:\n",
    "            pages = components[1]\n",
    "            year = components[2]\n",
    "        else:\n",
    "            pages = \"\"\n",
    "            year = components[1]\n",
    "\n",
    "    # Further splitting volume and number\n",
    "    if volume_number != \"\":\n",
    "        volume_number_ = [part.strip() for part in volume_number.split('(')]\n",
    "        if len(volume_number_) > 1:\n",
    "            volume, number = [part.strip() for part in volume_number.split('(')]\n",
    "        else:\n",
    "            volume = volume_number_[0]\n",
    "            number = \"\"\n",
    "    return {\n",
    "        'Revue': article_revue,\n",
    "        'Volume': volume,\n",
    "        'Number': number.replace(\")\", \"\"),\n",
    "        'Pages': pages,\n",
    "        'Year': year,\n",
    "    }\n",
    "\n",
    "def decompose_articles(articles):\n",
    "    articles_decomposed = []\n",
    "    for article in articles:\n",
    "            desc = article[\"description\"]\n",
    "            information = decompose_description(desc)\n",
    "            author_data = {\n",
    "                \"Article_Title\": article[\"Nom Article\"],\n",
    "                \"Speciality\": article[\"Speciality\"],\n",
    "                \"Year\": article[\"Annee\"],\n",
    "                \"Description\": desc,\n",
    "                'Revue': information['Revue'],\n",
    "                'Volume': re.sub(r'\\D', '', information['Volume'].replace(\" …\", \"\")),\n",
    "                'Number': re.sub(r'\\D', '', information['Number']),\n",
    "                'Pages': re.sub(r'\\D', '', information['Pages']),\n",
    "            }\n",
    "            articles_decomposed.append(author_data)\n",
    "    return articles_decomposed"
   ]
  },
  {
   "cell_type": "code",
   "execution_count": 76,
   "metadata": {
    "collapsed": false,
    "ExecuteTime": {
     "end_time": "2023-12-31T13:27:49.540257900Z",
     "start_time": "2023-12-31T13:27:49.448322400Z"
    }
   },
   "outputs": [
    {
     "name": "stdout",
     "output_type": "stream",
     "text": [
      "(3587, 8)\n"
     ]
    },
    {
     "data": {
      "text/plain": "                                          Article_Title  \\\n0     Preparation and characterization of pyrolytic ...   \n1     Preparation and characterization of pyrolytic ...   \n2     Preparation and characterization of pyrolytic ...   \n3     Pyrolysis of the Moroccan (Tarfaya) oil shales...   \n4     Pyrolysis of the Moroccan (Tarfaya) oil shales...   \n...                                                 ...   \n3582  A newly-designed ZnO/CdS/CuO: Co solar cell an...   \n3583  A newly-designed ZnO/CdS/CuO: Co solar cell an...   \n3584  A newly-designed ZnO/CdS/CuO: Co solar cell an...   \n3585  A newly-designed ZnO/CdS/CuO: Co solar cell an...   \n3586  A newly-designed ZnO/CdS/CuO: Co solar cell an...   \n\n                                  Speciality  Year  \\\n0             Energy and Renewable Resources  2000   \n1             Energy and Renewable Resources  2000   \n2             Energy and Renewable Resources  2000   \n3             Energy and Renewable Resources  2000   \n4             Energy and Renewable Resources  2000   \n...                                      ...   ...   \n3582  Mathematics and Computational Sciences  2020   \n3583  Mathematics and Computational Sciences  2020   \n3584  Mathematics and Computational Sciences  2020   \n3585  Mathematics and Computational Sciences  2020   \n3586  Mathematics and Computational Sciences  2020   \n\n                                          Description  \\\n0             Thin solid films 358 (1-2), 40-45, 2000   \n1             Thin solid films 358 (1-2), 40-45, 2000   \n2             Thin solid films 358 (1-2), 40-45, 2000   \n3                          Fuel 79 (7), 733-742, 2000   \n4                          Fuel 79 (7), 733-742, 2000   \n...                                               ...   \n3582  Journal of Solar Energy Engineering, 1-12, 2020   \n3583  Journal of Solar Energy Engineering, 1-12, 2020   \n3584  Journal of Solar Energy Engineering, 1-12, 2020   \n3585  Journal of Solar Energy Engineering, 1-12, 2020   \n3586  Journal of Solar Energy Engineering, 1-12, 2020   \n\n                                     Revue Volume Number   Pages  \n0                         Thin solid films    358     12    4045  \n1                         Thin solid films    358     12    4045  \n2                         Thin solid films    358     12    4045  \n3                                     Fuel     79      7  733742  \n4                                     Fuel     79      7  733742  \n...                                    ...    ...    ...     ...  \n3582  Journal of Solar Energy Engineering,    112                 \n3583  Journal of Solar Energy Engineering,    112                 \n3584  Journal of Solar Energy Engineering,    112                 \n3585  Journal of Solar Energy Engineering,    112                 \n3586  Journal of Solar Energy Engineering,    112                 \n\n[3587 rows x 8 columns]",
      "text/html": "<div>\n<style scoped>\n    .dataframe tbody tr th:only-of-type {\n        vertical-align: middle;\n    }\n\n    .dataframe tbody tr th {\n        vertical-align: top;\n    }\n\n    .dataframe thead th {\n        text-align: right;\n    }\n</style>\n<table border=\"1\" class=\"dataframe\">\n  <thead>\n    <tr style=\"text-align: right;\">\n      <th></th>\n      <th>Article_Title</th>\n      <th>Speciality</th>\n      <th>Year</th>\n      <th>Description</th>\n      <th>Revue</th>\n      <th>Volume</th>\n      <th>Number</th>\n      <th>Pages</th>\n    </tr>\n  </thead>\n  <tbody>\n    <tr>\n      <th>0</th>\n      <td>Preparation and characterization of pyrolytic ...</td>\n      <td>Energy and Renewable Resources</td>\n      <td>2000</td>\n      <td>Thin solid films 358 (1-2), 40-45, 2000</td>\n      <td>Thin solid films</td>\n      <td>358</td>\n      <td>12</td>\n      <td>4045</td>\n    </tr>\n    <tr>\n      <th>1</th>\n      <td>Preparation and characterization of pyrolytic ...</td>\n      <td>Energy and Renewable Resources</td>\n      <td>2000</td>\n      <td>Thin solid films 358 (1-2), 40-45, 2000</td>\n      <td>Thin solid films</td>\n      <td>358</td>\n      <td>12</td>\n      <td>4045</td>\n    </tr>\n    <tr>\n      <th>2</th>\n      <td>Preparation and characterization of pyrolytic ...</td>\n      <td>Energy and Renewable Resources</td>\n      <td>2000</td>\n      <td>Thin solid films 358 (1-2), 40-45, 2000</td>\n      <td>Thin solid films</td>\n      <td>358</td>\n      <td>12</td>\n      <td>4045</td>\n    </tr>\n    <tr>\n      <th>3</th>\n      <td>Pyrolysis of the Moroccan (Tarfaya) oil shales...</td>\n      <td>Energy and Renewable Resources</td>\n      <td>2000</td>\n      <td>Fuel 79 (7), 733-742, 2000</td>\n      <td>Fuel</td>\n      <td>79</td>\n      <td>7</td>\n      <td>733742</td>\n    </tr>\n    <tr>\n      <th>4</th>\n      <td>Pyrolysis of the Moroccan (Tarfaya) oil shales...</td>\n      <td>Energy and Renewable Resources</td>\n      <td>2000</td>\n      <td>Fuel 79 (7), 733-742, 2000</td>\n      <td>Fuel</td>\n      <td>79</td>\n      <td>7</td>\n      <td>733742</td>\n    </tr>\n    <tr>\n      <th>...</th>\n      <td>...</td>\n      <td>...</td>\n      <td>...</td>\n      <td>...</td>\n      <td>...</td>\n      <td>...</td>\n      <td>...</td>\n      <td>...</td>\n    </tr>\n    <tr>\n      <th>3582</th>\n      <td>A newly-designed ZnO/CdS/CuO: Co solar cell an...</td>\n      <td>Mathematics and Computational Sciences</td>\n      <td>2020</td>\n      <td>Journal of Solar Energy Engineering, 1-12, 2020</td>\n      <td>Journal of Solar Energy Engineering,</td>\n      <td>112</td>\n      <td></td>\n      <td></td>\n    </tr>\n    <tr>\n      <th>3583</th>\n      <td>A newly-designed ZnO/CdS/CuO: Co solar cell an...</td>\n      <td>Mathematics and Computational Sciences</td>\n      <td>2020</td>\n      <td>Journal of Solar Energy Engineering, 1-12, 2020</td>\n      <td>Journal of Solar Energy Engineering,</td>\n      <td>112</td>\n      <td></td>\n      <td></td>\n    </tr>\n    <tr>\n      <th>3584</th>\n      <td>A newly-designed ZnO/CdS/CuO: Co solar cell an...</td>\n      <td>Mathematics and Computational Sciences</td>\n      <td>2020</td>\n      <td>Journal of Solar Energy Engineering, 1-12, 2020</td>\n      <td>Journal of Solar Energy Engineering,</td>\n      <td>112</td>\n      <td></td>\n      <td></td>\n    </tr>\n    <tr>\n      <th>3585</th>\n      <td>A newly-designed ZnO/CdS/CuO: Co solar cell an...</td>\n      <td>Mathematics and Computational Sciences</td>\n      <td>2020</td>\n      <td>Journal of Solar Energy Engineering, 1-12, 2020</td>\n      <td>Journal of Solar Energy Engineering,</td>\n      <td>112</td>\n      <td></td>\n      <td></td>\n    </tr>\n    <tr>\n      <th>3586</th>\n      <td>A newly-designed ZnO/CdS/CuO: Co solar cell an...</td>\n      <td>Mathematics and Computational Sciences</td>\n      <td>2020</td>\n      <td>Journal of Solar Energy Engineering, 1-12, 2020</td>\n      <td>Journal of Solar Energy Engineering,</td>\n      <td>112</td>\n      <td></td>\n      <td></td>\n    </tr>\n  </tbody>\n</table>\n<p>3587 rows × 8 columns</p>\n</div>"
     },
     "execution_count": 76,
     "metadata": {},
     "output_type": "execute_result"
    }
   ],
   "source": [
    "articles_v2 = decompose_articles(article_specialty)\n",
    "articles_v2_df = pd.DataFrame(articles_v2)\n",
    "columns_to_replace = ['Number', 'Volume', 'Pages']\n",
    "articles_v2_df[columns_to_replace] = articles_v2_df[columns_to_replace].fillna(0)\n",
    "print(articles_v2_df.shape)\n",
    "articles_v2_df"
   ]
  },
  {
   "cell_type": "code",
   "outputs": [
    {
     "name": "stdout",
     "output_type": "stream",
     "text": [
      "(1455, 8)\n"
     ]
    },
    {
     "data": {
      "text/plain": "                                          Article_Title  \\\n0     Preparation and characterization of pyrolytic ...   \n3     Pyrolysis of the Moroccan (Tarfaya) oil shales...   \n6     Corrosion inhibition of Armco iron by 2-mercap...   \n9     Electrochromism in sputtered V2O5 thin films: ...   \n12    Study of ZnTe thin films deposited by rf sputt...   \n...                                                 ...   \n3557  Electrical impedance spectroscopy characteriza...   \n3563  Effect of RF power on the structural and optic...   \n3569  Reactively sputtered cobalt oxide coatings for...   \n3575  Controlled Synthesis of Oriented Zinc Oxide Na...   \n3581  A newly-designed ZnO/CdS/CuO: Co solar cell an...   \n\n                                  Speciality  Year  \\\n0             Energy and Renewable Resources  2000   \n3             Energy and Renewable Resources  2000   \n6             Energy and Renewable Resources  2007   \n9             Energy and Renewable Resources  2002   \n12            Energy and Renewable Resources  2001   \n...                                      ...   ...   \n3557  Mathematics and Computational Sciences  2019   \n3563  Mathematics and Computational Sciences  2018   \n3569  Mathematics and Computational Sciences  2020   \n3575  Mathematics and Computational Sciences  2021   \n3581  Mathematics and Computational Sciences  2020   \n\n                                          Description  \\\n0             Thin solid films 358 (1-2), 40-45, 2000   \n3                          Fuel 79 (7), 733-742, 2000   \n6           Corrosion Science 49 (7), 2936-2945, 2007   \n9             Thin Solid Films 405 (1-2), 11-16, 2002   \n12            Thin Solid Films 382 (1-2), 30-33, 2001   \n...                                               ...   \n3557     Physica B: Condensed Matter 572, 76-80, 2019   \n3563  Journal of Semiconductors 39 (12), 123001, 2018   \n3569               Materials Today: Proceedings, 2020   \n3575         Journal of Nano Research 67, 15-24, 2021   \n3581  Journal of Solar Energy Engineering, 1-12, 2020   \n\n                                     Revue Volume Number     Pages  \n0                         Thin solid films    358     12      4045  \n3                                     Fuel     79      7    733742  \n6                        Corrosion Science     49      7  29362945  \n9                         Thin Solid Films    405     12      1116  \n12                        Thin Solid Films    382     12      3033  \n...                                    ...    ...    ...       ...  \n3557           Physica B: Condensed Matter    572             7680  \n3563             Journal of Semiconductors     39     12    123001  \n3569         Materials Today: Proceedings,                          \n3575              Journal of Nano Research     67             1524  \n3581  Journal of Solar Energy Engineering,    112                   \n\n[1455 rows x 8 columns]",
      "text/html": "<div>\n<style scoped>\n    .dataframe tbody tr th:only-of-type {\n        vertical-align: middle;\n    }\n\n    .dataframe tbody tr th {\n        vertical-align: top;\n    }\n\n    .dataframe thead th {\n        text-align: right;\n    }\n</style>\n<table border=\"1\" class=\"dataframe\">\n  <thead>\n    <tr style=\"text-align: right;\">\n      <th></th>\n      <th>Article_Title</th>\n      <th>Speciality</th>\n      <th>Year</th>\n      <th>Description</th>\n      <th>Revue</th>\n      <th>Volume</th>\n      <th>Number</th>\n      <th>Pages</th>\n    </tr>\n  </thead>\n  <tbody>\n    <tr>\n      <th>0</th>\n      <td>Preparation and characterization of pyrolytic ...</td>\n      <td>Energy and Renewable Resources</td>\n      <td>2000</td>\n      <td>Thin solid films 358 (1-2), 40-45, 2000</td>\n      <td>Thin solid films</td>\n      <td>358</td>\n      <td>12</td>\n      <td>4045</td>\n    </tr>\n    <tr>\n      <th>3</th>\n      <td>Pyrolysis of the Moroccan (Tarfaya) oil shales...</td>\n      <td>Energy and Renewable Resources</td>\n      <td>2000</td>\n      <td>Fuel 79 (7), 733-742, 2000</td>\n      <td>Fuel</td>\n      <td>79</td>\n      <td>7</td>\n      <td>733742</td>\n    </tr>\n    <tr>\n      <th>6</th>\n      <td>Corrosion inhibition of Armco iron by 2-mercap...</td>\n      <td>Energy and Renewable Resources</td>\n      <td>2007</td>\n      <td>Corrosion Science 49 (7), 2936-2945, 2007</td>\n      <td>Corrosion Science</td>\n      <td>49</td>\n      <td>7</td>\n      <td>29362945</td>\n    </tr>\n    <tr>\n      <th>9</th>\n      <td>Electrochromism in sputtered V2O5 thin films: ...</td>\n      <td>Energy and Renewable Resources</td>\n      <td>2002</td>\n      <td>Thin Solid Films 405 (1-2), 11-16, 2002</td>\n      <td>Thin Solid Films</td>\n      <td>405</td>\n      <td>12</td>\n      <td>1116</td>\n    </tr>\n    <tr>\n      <th>12</th>\n      <td>Study of ZnTe thin films deposited by rf sputt...</td>\n      <td>Energy and Renewable Resources</td>\n      <td>2001</td>\n      <td>Thin Solid Films 382 (1-2), 30-33, 2001</td>\n      <td>Thin Solid Films</td>\n      <td>382</td>\n      <td>12</td>\n      <td>3033</td>\n    </tr>\n    <tr>\n      <th>...</th>\n      <td>...</td>\n      <td>...</td>\n      <td>...</td>\n      <td>...</td>\n      <td>...</td>\n      <td>...</td>\n      <td>...</td>\n      <td>...</td>\n    </tr>\n    <tr>\n      <th>3557</th>\n      <td>Electrical impedance spectroscopy characteriza...</td>\n      <td>Mathematics and Computational Sciences</td>\n      <td>2019</td>\n      <td>Physica B: Condensed Matter 572, 76-80, 2019</td>\n      <td>Physica B: Condensed Matter</td>\n      <td>572</td>\n      <td></td>\n      <td>7680</td>\n    </tr>\n    <tr>\n      <th>3563</th>\n      <td>Effect of RF power on the structural and optic...</td>\n      <td>Mathematics and Computational Sciences</td>\n      <td>2018</td>\n      <td>Journal of Semiconductors 39 (12), 123001, 2018</td>\n      <td>Journal of Semiconductors</td>\n      <td>39</td>\n      <td>12</td>\n      <td>123001</td>\n    </tr>\n    <tr>\n      <th>3569</th>\n      <td>Reactively sputtered cobalt oxide coatings for...</td>\n      <td>Mathematics and Computational Sciences</td>\n      <td>2020</td>\n      <td>Materials Today: Proceedings, 2020</td>\n      <td>Materials Today: Proceedings,</td>\n      <td></td>\n      <td></td>\n      <td></td>\n    </tr>\n    <tr>\n      <th>3575</th>\n      <td>Controlled Synthesis of Oriented Zinc Oxide Na...</td>\n      <td>Mathematics and Computational Sciences</td>\n      <td>2021</td>\n      <td>Journal of Nano Research 67, 15-24, 2021</td>\n      <td>Journal of Nano Research</td>\n      <td>67</td>\n      <td></td>\n      <td>1524</td>\n    </tr>\n    <tr>\n      <th>3581</th>\n      <td>A newly-designed ZnO/CdS/CuO: Co solar cell an...</td>\n      <td>Mathematics and Computational Sciences</td>\n      <td>2020</td>\n      <td>Journal of Solar Energy Engineering, 1-12, 2020</td>\n      <td>Journal of Solar Energy Engineering,</td>\n      <td>112</td>\n      <td></td>\n      <td></td>\n    </tr>\n  </tbody>\n</table>\n<p>1455 rows × 8 columns</p>\n</div>"
     },
     "execution_count": 78,
     "metadata": {},
     "output_type": "execute_result"
    }
   ],
   "source": [
    "articles_v2_df = articles_v2_df.drop_duplicates(subset=[\"Article_Title\", \"Speciality\"])\n",
    "print(articles_v2_df.shape)\n",
    "articles_v2_df"
   ],
   "metadata": {
    "collapsed": false,
    "ExecuteTime": {
     "end_time": "2023-12-31T13:28:05.051862400Z",
     "start_time": "2023-12-31T13:28:04.996117600Z"
    }
   },
   "execution_count": 78
  },
  {
   "cell_type": "code",
   "execution_count": 79,
   "metadata": {
    "collapsed": false,
    "ExecuteTime": {
     "end_time": "2023-12-31T13:28:12.071504400Z",
     "start_time": "2023-12-31T13:28:12.020006800Z"
    }
   },
   "outputs": [],
   "source": [
    "articles_v2_df.to_csv('generated/article_speciality.csv', index=False)"
   ]
  },
  {
   "cell_type": "code",
   "outputs": [],
   "source": [],
   "metadata": {
    "collapsed": false,
    "ExecuteTime": {
     "end_time": "2023-12-31T13:26:51.037849700Z",
     "start_time": "2023-12-31T13:26:50.861852400Z"
    }
   },
   "execution_count": 75
  }
 ],
 "metadata": {
  "kernelspec": {
   "display_name": "Python 3",
   "language": "python",
   "name": "python3"
  },
  "language_info": {
   "codemirror_mode": {
    "name": "ipython",
    "version": 3
   },
   "file_extension": ".py",
   "mimetype": "text/x-python",
   "name": "python",
   "nbconvert_exporter": "python",
   "pygments_lexer": "ipython3",
   "version": "3.11.4"
  }
 },
 "nbformat": 4,
 "nbformat_minor": 2
}
