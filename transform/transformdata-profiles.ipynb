{
 "cells": [
  {
   "cell_type": "code",
   "execution_count": 43,
   "metadata": {
    "ExecuteTime": {
     "end_time": "2023-12-30T20:19:09.070539700Z",
     "start_time": "2023-12-30T20:19:08.976439400Z"
    }
   },
   "outputs": [],
   "source": [
    "import json, copy, re\n",
    "import pandas as pd"
   ]
  },
  {
   "cell_type": "code",
   "execution_count": 44,
   "metadata": {
    "ExecuteTime": {
     "end_time": "2023-12-30T20:19:09.254255200Z",
     "start_time": "2023-12-30T20:19:09.076541500Z"
    }
   },
   "outputs": [],
   "source": [
    "with open(\"uca.json\", 'r') as file:\n",
    "    data = json.load(file)\n",
    "    \n",
    "profiles = copy.deepcopy(data)\n",
    "articles_data = copy.deepcopy(data)"
   ]
  },
  {
   "cell_type": "markdown",
   "metadata": {},
   "source": [
    "# Transform profile Data"
   ]
  },
  {
   "cell_type": "markdown",
   "metadata": {},
   "source": [
    "#### Transform the `Article` and `Spciality`"
   ]
  },
  {
   "cell_type": "code",
   "execution_count": 45,
   "metadata": {},
   "outputs": [],
   "source": [
    "for item in profiles:\n",
    "    item[\"Spciality\"] = \", \".join(item[\"Spciality\"])\n",
    "    item[\"Article\"] = len(item[\"Article\"])"
   ]
  },
  {
   "cell_type": "markdown",
   "metadata": {},
   "source": [
    "#### Add 'Faculty'"
   ]
  },
  {
   "cell_type": "code",
   "execution_count": 46,
   "metadata": {},
   "outputs": [],
   "source": [
    "class Transform:\n",
    "    def __init__(self, to, test) -> None:\n",
    "        self.value = to\n",
    "        self.test = test\n",
    "\n",
    "\n",
    "def test(e, search):\n",
    "    return any(s.lower() in e.lower() for s in search)\n",
    "\n",
    "\n",
    "def transform_to_fstg(e):\n",
    "    return test(e, [\"FST\", \"FSTG\", \"Faculty of Sciences and Techniques\", \n",
    "                    \"Faculté des Sciences et Techniques\", \"Faculty of Science and Technology\", \n",
    "                    \"Computer Science\", \"Computer\", \"Biologie\",\"informatique\", \"Géographie\",\n",
    "                    \"Biology & Environmental Engineering\", \"Environmental Engineering\", \"chimie\"\n",
    "                    ])\n",
    "\n",
    "def transform_to_ensa(e):\n",
    "    return test(e, [\"ENSA\"])\n",
    "\n",
    "def transform_to_fssm(e):\n",
    "    return test(e, [\"FSSM\",\"Mathématiques\", \"Physics\",\"physique\", \"Semlalia\", \n",
    "                    \"Faculty of Sciences\", \"Hydrogéologie\", \"Hydrologie\", \"physico-chimie\",\n",
    "                    \"Géologie\", \"mathématique\", \"microbiologie\",\"mathématiques\"\n",
    "                    ])\n",
    "\n",
    "def transform_to_fmpm(e):\n",
    "    return test(e, [\"FMPm\", \"Faculté de Médecine et de Pharmacie\", \"Faculté de Médecine\"\n",
    "                    \"Médecine\", \"Pharmacie\", \"médicale\", \"Faculty of medecine\", \"Algologie\",\n",
    "                    \"anesthésie réanimation\", \"réanimation\", \"anesthésie\", \"Hopital\",\n",
    "                    \"Toxicology and Food Safety\"\n",
    "                    ])\n",
    "\n",
    "def transform_to_fless(e):\n",
    "    return test(e, [\"Faculty of Law, Economic and Social Sciences\", \"Faculty of Law\",\n",
    "                    \"Economic\", \"Social Sciences\", \"Social\"])\n",
    "\n",
    "def transform_to_este(e):\n",
    "    return test(e, [\"supérieure de Technologie d'Essaouira\",\n",
    "                    \"supérieure de Technologie d'Essaouira\",\n",
    "                    \"Superior School of Technology KS\",\n",
    "                    \"Superior School of Technology\",\n",
    "                    \"School of Technology\", \"Superior School of Technology\",\n",
    "                    \"ESTE\"])\n",
    "\n",
    "def transform_to_fps(e):\n",
    "    return test(e, [\"FPS\", \"FPS - Safi\", \"Faculté Polydisciplinaire de Safi\", \"Polydisciplinaire\"\n",
    "                    \"Faculté Polydisciplinaire\", \"Faculté Poly disciplinaire\", \"Poly disciplinaire\"\n",
    "                    ])\n",
    "\n",
    "def transform_to_other(e):\n",
    "    # return e == \"Université Cadi Ayyad\" or e == \"CADI AYYAD UNIVERSITY\"\n",
    "    return test(e, [\"Université Cadi Ayyad\",\n",
    "                    \"Cadi Ayyad University\",\n",
    "                    \"Cadi  Ayyad\",\n",
    "                    \"CADI AYYAD UNIVERSITY\"\n",
    "                    ])\n",
    "\n",
    "faculties_transform = [\n",
    "    Transform(\"FSTG\", transform_to_fstg),\n",
    "    Transform(\"ENSA\", transform_to_ensa),\n",
    "    Transform(\"FSSM\", transform_to_fssm),\n",
    "    Transform(\"FPS\", transform_to_fps),\n",
    "    Transform(\"FMPM\", transform_to_fmpm),\n",
    "    Transform(\"FLESS\", transform_to_fless),\n",
    "    Transform(\"FPS\", transform_to_fps),\n",
    "    Transform(\"ESTE\", transform_to_este),\n",
    "    Transform(\"Other\", transform_to_other),\n",
    "]\n",
    "\n",
    "\n",
    "def transform_faculties(data):\n",
    "    for ind, item in enumerate(data):\n",
    "        for transform in faculties_transform:\n",
    "            if transform.test(item.get(\"ASS - Unevercity\", \"\")):\n",
    "                data[ind][\"faculty\"] = transform.value\n",
    "                break\n",
    "            #else: data[ind][\"faculty\"] = item.get(\"ASS - Unevercity\")\n",
    "            else: data[ind][\"faculty\"] = \"None\""
   ]
  },
  {
   "cell_type": "code",
   "execution_count": 47,
   "metadata": {},
   "outputs": [],
   "source": [
    "# from faculty_transform import transform_faculties\n",
    "profiles = copy.deepcopy(profiles)\n",
    "transform_faculties(profiles)"
   ]
  },
  {
   "cell_type": "code",
   "execution_count": 48,
   "metadata": {},
   "outputs": [],
   "source": [
    "for prof in profiles:\n",
    "    print(prof[\"faculty\"])"
   ]
  },
  {
   "cell_type": "code",
   "execution_count": 49,
   "metadata": {},
   "outputs": [],
   "source": [
    "profiles_df = pd.DataFrame(profiles)\n",
    "profiles_df"
   ]
  },
  {
   "cell_type": "code",
   "execution_count": 50,
   "metadata": {},
   "outputs": [],
   "source": [
    "profiles_df.to_csv(\"./generated/profiles-v2.csv\", index=False)"
   ]
  },
  {
   "cell_type": "code",
   "execution_count": 51,
   "metadata": {},
   "outputs": [],
   "source": [
    "with open(\"./generated/faculty_specialty.json\", 'w') as file:\n",
    "    json.dump(profiles, file, indent=4)"
   ]
  },
  {
   "cell_type": "code",
   "execution_count": 51,
   "metadata": {},
   "outputs": [],
   "source": []
  }
 ],
 "metadata": {
  "kernelspec": {
   "display_name": "Python 3",
   "language": "python",
   "name": "python3"
  },
  "language_info": {
   "codemirror_mode": {
    "name": "ipython",
    "version": 3
   },
   "file_extension": ".py",
   "mimetype": "text/x-python",
   "name": "python",
   "nbconvert_exporter": "python",
   "pygments_lexer": "ipython3",
   "version": "3.11.4"
  }
 },
 "nbformat": 4,
 "nbformat_minor": 2
}
