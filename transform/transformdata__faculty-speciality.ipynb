{
 "cells": [
  {
   "cell_type": "code",
   "execution_count": 6,
   "metadata": {
    "ExecuteTime": {
     "end_time": "2023-12-30T20:23:07.140611700Z",
     "start_time": "2023-12-30T20:23:07.051445500Z"
    }
   },
   "outputs": [],
   "source": [
    "import json, copy, re\n",
    "import pandas as pd"
   ]
  },
  {
   "cell_type": "code",
   "execution_count": 7,
   "metadata": {
    "ExecuteTime": {
     "end_time": "2023-12-30T20:23:07.185748900Z",
     "start_time": "2023-12-30T20:23:07.118187100Z"
    }
   },
   "outputs": [],
   "source": [
    "specialties_groups = {\n",
    "    'Biology and Agriculture': [\n",
    "        'Actinobactéries', 'Agrophysiologie', 'Besoin en eau des cultures', \n",
    "        'Biotechnologies végétales', 'Lipids quality and technology', \n",
    "        'Ressources en eau', 'Soil Moisture', 'Valorization and Conservation of Medicinal and Aromatic Plants'\n",
    "    ], \n",
    "    'Chemistry and Materials Science': [\n",
    "        'Adsorption', 'Apatites', 'Bioactive compounds', 'Biomaterials', \n",
    "        'Calcium Phosphates', 'Clays & chemical pollutants', 'Membrane separation', 'Nanocomposites', 'Traditional ceramics'\n",
    "    ],\n",
    "    'Computer Science and Technology': [\n",
    "        'Artificial Intelligence', 'Big Data', 'Cloud Computing', 'Computer Vision', \n",
    "        'Data analytics', 'GIS', 'Image and Video Processing', 'Internet Of Things', \n",
    "        'Machine Learning', 'Multi-Agent System', 'Pattern Recognition', 'Thin films'\n",
    "    ],\n",
    "    'Economics': ['Economics'],\n",
    "    'Energy and Environment': [\n",
    "        'Energy Efficiency in Buildings', 'Environmental Management', 'Renewable Energies', \n",
    "        'Solar energy', 'Water treatment'\n",
    "    ],\n",
    "    'Geology and Earth Sciences': [\n",
    "        'Groundwater', 'Hydrogeology', 'Hydrology', 'Integrated Water resources management', \n",
    "        'Modeling and numerical simulation on environmental sciences', 'Tectonic and Regional Geology'\n",
    "    ],\n",
    "    'Mathematics and Applied Mathematics': [\n",
    "        'Applied Mathematics', 'Calcul Stochastique', 'Evolution equations', 'Mathematical Physics', \n",
    "        'Numerical methods', 'Partial differential equations', 'Scientific computing', 'Stochastic differential Equations'\n",
    "    ],\n",
    "    'Mechanical Engineering and Fluids': ['Mécanique des fluides et énergétique'],\n",
    "    'Medicine and Health Sciences': [\n",
    "        'Biochimie', 'Drug discovery and computational chemistry', \n",
    "        'Hémodynamique', 'Medicine', 'Neurosciences', \n",
    "        'Swarm Intelligence', 'Sepsis', 'Ventilation mécanique', 'Fluides', 'État de choc'\n",
    "    ],\n",
    "    'Physics': [\n",
    "        'Computational Physics', 'Conformal Field Theory', 'Exoplanets', \n",
    "        'General Relativity', 'Gravitational Physics', 'High Energy Physics', 'Nuclear Physics', 'Physics of Semiconductor Materials',\n",
    "        'Physics of Semiconductor Devices & Solar Cells', 'Point Defects', 'Semiconductor Photovoltaic Devices & Solar Cells', \n",
    "        'Swarm Intelligence', 'Black Hole Thermodynamics'\n",
    "    ]\n",
    "}"
   ]
  },
  {
   "cell_type": "code",
   "execution_count": 8,
   "metadata": {
    "ExecuteTime": {
     "end_time": "2023-12-30T20:23:07.281364500Z",
     "start_time": "2023-12-30T20:23:07.153617600Z"
    }
   },
   "outputs": [
    {
     "name": "stdout",
     "output_type": "stream",
     "text": [
      "physique, irrigation, Agricultural Sciences, remote sensing, Geoscience\n",
      "Energies renouvelables, PV, Stockage\n",
      "Land-atmosphere interactions, Soil Moisture, Remote sensing, Evapotranspiration, Physics\n",
      "Wastewater treatment and reuse\n",
      "Ressources en eau, Besoin en eau des cultures, modèles, télédétection, semi-aride\n",
      "modélisation des systèmes complexes et analyse mathématique\n",
      "Tectonic and Regional Geology\n",
      "Agrophysiologie\n",
      "Actinobactéries, biotechnologie microbienne, solubilisation des phosphate, production d'antibiotique\n",
      "Biotechnologies végétles\n",
      "Apatites, Calcium Phosphates, Adsorption, Drug Delivery, Biomaterials\n",
      "Lipids quality and technology, Membrane separation, Emulsification, Bioactive compounds, Functionalities\n",
      "Hydrogéologie, télédétection, Hydrologie nivale\n",
      "adsorption  décontamination plan d'expérience DFT\n",
      "Valorization and Conservation of Medicinal and Aromatic Plants\n",
      "\n",
      "Materials science, traditional ceramics, clays & chemical pollutants\n",
      "Energy Efficiency in Buildings, Heat and Mass Transfer, Desalination, Computational Fluid Dynamics\n",
      "Control theory: controllability and stabilization\n",
      "Water treatment, biomaterials, nanocomposites, smart irrigation\n",
      "Material science\n",
      "Sciences des matériaux, Cellules photovoltaiques\n",
      "Fixed point theory, Partial differential equations, Integral equations, semigroup theory\n",
      "Groundwater, Modeling, Remote sensing, Hydrochemistry, Isotopes\n",
      "sciences des matériaux\n",
      "Information system engineering, Data analytics, decision support systems, multiagent systems, Model Driven architectures\n",
      "Computers & Operations research\n",
      "Molecular Genetics, Nanobiotechnology\n",
      "Structural Geology-Geochemistry\n",
      "Plant biotechnoloy and physiology\n",
      "\n",
      "Physics of Semiconductor Materials, Point Defects, Semiconductor Photovoltaic Devices & Solar Cells, Physics of Semiconductor De\n",
      "Swarm Intelligence, Combinatorial Optimization, Bio-inspired Metaheuristics\n",
      "Hémodynamique, sepsis, ventilation mécanique, Fluides, état de choc.\n",
      "géographie physique, Géomorphologie littorale\n",
      "Modelling and numerical simulation on environmental sciences\n",
      "Integrated Water resources management, climate change and climate variability and their impact on water resources\n",
      "Géologie, Hydrologie, Climatologie, Hydrogéologie, Environnement\n",
      "materials science, ceramics, natural fibres, composites, energy\n",
      "Geology Geophysics, Geotechnics, Hydrogeology\n",
      "Medicine\n",
      "Biochimie, microbiologie, toxicologie\n",
      "Applied Mathematics, Numerical methods, Scientific computing\n",
      "polymères, composites, nanotubes de carbone\n",
      "Plant Biochemistry physiology and biotechnolog, Agricultural plant science, Ecotoxicology\n",
      "Corrosion, Electrochemistry, Green inhibition, Chemistry, Adsorption\n",
      "Materials Science, Energie storage, Electrochemistry, Li-ion Batteries.\n",
      "Calcul Stochasitque\n",
      "Photovoltaic systems, Prediction, PVT systems, Soling, Photovoltaic module degradation\n",
      "physics- Black Hole Thermodynamics- Exoplanets - Cosmology\n",
      "Drug discovery and computational chemistry\n",
      "Applied Geophysics\n",
      "Evolution equations, Control theory, Positive systems\n",
      "\n",
      "Solar energy, food processing, food quality, sorption isotherms, thermophysical characterization\n",
      "cristallographie\n",
      "Géographie, tourisme, développement territorial, Montagne, Maroc\n",
      "Efficacité énergétique dans le bâtiment\n",
      "semiconductor devices, optoelectronics\n",
      "Stochastic differential Equations\n",
      "Environment, Ecology, Plant Physiology, Agrifoods, Wastewater treatment\n",
      "Agrodiversité, Ressources Phytogénétiques, Ecotoxicologie\n",
      "Mathématiques appliquées, Informatique, Automatique, ressources naturelles\n",
      "géologie\n",
      "Theoretical physics, Gravitational Physics, Cosmology, General Relativity, High Energy PhysicsConformal Field Theory\n",
      "ENT\n",
      "Biodiversité et Biotechnologie algale\n",
      "Artificial Intelligence, Internet Of Things\n",
      "Electrochemistry\n",
      "Polymer and Nanocomposites Materials, Materials Science, Chemistry\n",
      "Computer Vision, Pattern Recognition, Machine Learning\n",
      "Artificial Intelligence, Machine Learning, Intelligent Environments, Data Analytics, IoT\n",
      "Sédimentologie, Ichnologie\n",
      "Pattern Recognition, Image and Video Processing\n",
      "thin films\n",
      "PDEs  Control Theory  Operator Semigroups\n",
      "machine learning, deep learning, pattern recognition, medical imaging, computer vision\n",
      "Exoplanets\n",
      "chimie des matériaux\n",
      "big data, maching learning, Deep learning\n",
      "Artificial Intelligence\n",
      "Theoretical physics, Nuclear Physics, Quantum Mechanics, Mathematical Physics, Computational Physics.\n",
      "ferroelectricité, spectroscopie d'impédance\n",
      "Génie Civil, géotechnique, structure, Recyclage et valorisation des déchets, traitement et stabilisation des matériaux\n",
      "\n",
      "Computer Sciences\n",
      "Matériaux valorisation recyclage procédé\n",
      "\n",
      "Economics\n",
      "Plant biology\n",
      "\n",
      "Induction motor drive and sensorless control\n",
      "GIS, Data analysis, Geoinformatic, Hydrology\n",
      "Cloud Computing, Cloud security, IDS, Multi-Agent System\n",
      "Food toxicology, Ecotoxicology, Environmental Management\n",
      "Computer sciences, image and video analysis\n",
      "Mécanique des fluides et énergétique\n",
      "Neurosciences\n",
      "Matériaux et procédés pour l'énergie\n",
      "Thin films, selective absorber, metal oxide, sputtering\n"
     ]
    }
   ],
   "source": [
    "with open(\"./generated/faculty_specialty.json\", 'r') as file:\n",
    "    data = json.load(file)\n",
    "for d in data:\n",
    "    print(d[\"Spciality\"])"
   ]
  },
  {
   "cell_type": "code",
   "execution_count": 9,
   "metadata": {
    "ExecuteTime": {
     "end_time": "2023-12-30T20:23:07.371363500Z",
     "start_time": "2023-12-30T20:23:07.260752900Z"
    }
   },
   "outputs": [],
   "source": [
    "faculty_specialty = []\n",
    "for ind, item in enumerate(data):\n",
    "    specialties = [item.strip() for item in item[\"Spciality\"].split(',')]\n",
    "    for specialty in specialties:\n",
    "        if len(specialty) == 0: continue\n",
    "        faculty_specialty.append({\n",
    "            \"Faculty\": item[\"faculty\"],\n",
    "            \"Specialty\": specialty\n",
    "        })\n",
    "faculty_specialty_df = pd.DataFrame(faculty_specialty)"
   ]
  },
  {
   "cell_type": "code",
   "execution_count": 10,
   "metadata": {
    "ExecuteTime": {
     "end_time": "2023-12-30T20:23:07.597817100Z",
     "start_time": "2023-12-30T20:23:07.296366Z"
    }
   },
   "outputs": [
    {
     "data": {
      "text/plain": "Specialty  Actinobactéries  Adsorption  Agricultural Sciences  \\\nFaculty                                                         \nENSA                     0           0                      0   \nESTE                     0           0                      0   \nFLESS                    0           0                      0   \nFMPM                     0           0                      0   \nFPS                      0           0                      0   \nFSSM                     0           0                      0   \nFSTG                     1           0                      1   \nNone                     0           0                      0   \nOther                    0           2                      0   \n\nSpecialty  Agricultural plant science  Agrifoods  Agrodiversité  \\\nFaculty                                                           \nENSA                                0          0              0   \nESTE                                1          0              0   \nFLESS                               0          0              0   \nFMPM                                0          0              0   \nFPS                                 0          0              1   \nFSSM                                0          0              0   \nFSTG                                0          1              0   \nNone                                0          0              0   \nOther                               0          0              0   \n\nSpecialty  Agrophysiologie  Apatites  Applied Geophysics  Applied Mathematics  \\\nFaculty                                                                         \nENSA                     0         0                   0                    0   \nESTE                     0         0                   0                    0   \nFLESS                    0         0                   0                    0   \nFMPM                     0         0                   0                    0   \nFPS                      0         0                   0                    0   \nFSSM                     0         0                   0                    0   \nFSTG                     1         0                   0                    0   \nNone                     0         0                   0                    0   \nOther                    0         1                   1                    1   \n\nSpecialty  ...  structure  thermophysical characterization  thin films  \\\nFaculty    ...                                                           \nENSA       ...          0                                0           0   \nESTE       ...          0                                0           0   \nFLESS      ...          0                                0           0   \nFMPM       ...          0                                0           0   \nFPS        ...          0                                0           0   \nFSSM       ...          0                                0           0   \nFSTG       ...          0                                0           0   \nNone       ...          0                                0           0   \nOther      ...          1                                1           1   \n\nSpecialty  tourisme  toxicologie  traditional ceramics  \\\nFaculty                                                  \nENSA              0            0                     0   \nESTE              0            0                     0   \nFLESS             0            0                     0   \nFMPM              0            0                     0   \nFPS               0            0                     0   \nFSSM              0            0                     0   \nFSTG              1            0                     0   \nNone              0            0                     0   \nOther             0            1                     1   \n\nSpecialty  traitement et stabilisation des matériaux  télédétection  \\\nFaculty                                                               \nENSA                                               0              0   \nESTE                                               0              0   \nFLESS                                              0              0   \nFMPM                                               0              0   \nFPS                                                0              0   \nFSSM                                               0              0   \nFSTG                                               0              1   \nNone                                               0              0   \nOther                                              1              1   \n\nSpecialty  ventilation mécanique  état de choc.  \nFaculty                                          \nENSA                           0              0  \nESTE                           0              0  \nFLESS                          0              0  \nFMPM                           1              1  \nFPS                            0              0  \nFSSM                           0              0  \nFSTG                           0              0  \nNone                           0              0  \nOther                          0              0  \n\n[9 rows x 229 columns]",
      "text/html": "<div>\n<style scoped>\n    .dataframe tbody tr th:only-of-type {\n        vertical-align: middle;\n    }\n\n    .dataframe tbody tr th {\n        vertical-align: top;\n    }\n\n    .dataframe thead th {\n        text-align: right;\n    }\n</style>\n<table border=\"1\" class=\"dataframe\">\n  <thead>\n    <tr style=\"text-align: right;\">\n      <th>Specialty</th>\n      <th>Actinobactéries</th>\n      <th>Adsorption</th>\n      <th>Agricultural Sciences</th>\n      <th>Agricultural plant science</th>\n      <th>Agrifoods</th>\n      <th>Agrodiversité</th>\n      <th>Agrophysiologie</th>\n      <th>Apatites</th>\n      <th>Applied Geophysics</th>\n      <th>Applied Mathematics</th>\n      <th>...</th>\n      <th>structure</th>\n      <th>thermophysical characterization</th>\n      <th>thin films</th>\n      <th>tourisme</th>\n      <th>toxicologie</th>\n      <th>traditional ceramics</th>\n      <th>traitement et stabilisation des matériaux</th>\n      <th>télédétection</th>\n      <th>ventilation mécanique</th>\n      <th>état de choc.</th>\n    </tr>\n    <tr>\n      <th>Faculty</th>\n      <th></th>\n      <th></th>\n      <th></th>\n      <th></th>\n      <th></th>\n      <th></th>\n      <th></th>\n      <th></th>\n      <th></th>\n      <th></th>\n      <th></th>\n      <th></th>\n      <th></th>\n      <th></th>\n      <th></th>\n      <th></th>\n      <th></th>\n      <th></th>\n      <th></th>\n      <th></th>\n      <th></th>\n    </tr>\n  </thead>\n  <tbody>\n    <tr>\n      <th>ENSA</th>\n      <td>0</td>\n      <td>0</td>\n      <td>0</td>\n      <td>0</td>\n      <td>0</td>\n      <td>0</td>\n      <td>0</td>\n      <td>0</td>\n      <td>0</td>\n      <td>0</td>\n      <td>...</td>\n      <td>0</td>\n      <td>0</td>\n      <td>0</td>\n      <td>0</td>\n      <td>0</td>\n      <td>0</td>\n      <td>0</td>\n      <td>0</td>\n      <td>0</td>\n      <td>0</td>\n    </tr>\n    <tr>\n      <th>ESTE</th>\n      <td>0</td>\n      <td>0</td>\n      <td>0</td>\n      <td>1</td>\n      <td>0</td>\n      <td>0</td>\n      <td>0</td>\n      <td>0</td>\n      <td>0</td>\n      <td>0</td>\n      <td>...</td>\n      <td>0</td>\n      <td>0</td>\n      <td>0</td>\n      <td>0</td>\n      <td>0</td>\n      <td>0</td>\n      <td>0</td>\n      <td>0</td>\n      <td>0</td>\n      <td>0</td>\n    </tr>\n    <tr>\n      <th>FLESS</th>\n      <td>0</td>\n      <td>0</td>\n      <td>0</td>\n      <td>0</td>\n      <td>0</td>\n      <td>0</td>\n      <td>0</td>\n      <td>0</td>\n      <td>0</td>\n      <td>0</td>\n      <td>...</td>\n      <td>0</td>\n      <td>0</td>\n      <td>0</td>\n      <td>0</td>\n      <td>0</td>\n      <td>0</td>\n      <td>0</td>\n      <td>0</td>\n      <td>0</td>\n      <td>0</td>\n    </tr>\n    <tr>\n      <th>FMPM</th>\n      <td>0</td>\n      <td>0</td>\n      <td>0</td>\n      <td>0</td>\n      <td>0</td>\n      <td>0</td>\n      <td>0</td>\n      <td>0</td>\n      <td>0</td>\n      <td>0</td>\n      <td>...</td>\n      <td>0</td>\n      <td>0</td>\n      <td>0</td>\n      <td>0</td>\n      <td>0</td>\n      <td>0</td>\n      <td>0</td>\n      <td>0</td>\n      <td>1</td>\n      <td>1</td>\n    </tr>\n    <tr>\n      <th>FPS</th>\n      <td>0</td>\n      <td>0</td>\n      <td>0</td>\n      <td>0</td>\n      <td>0</td>\n      <td>1</td>\n      <td>0</td>\n      <td>0</td>\n      <td>0</td>\n      <td>0</td>\n      <td>...</td>\n      <td>0</td>\n      <td>0</td>\n      <td>0</td>\n      <td>0</td>\n      <td>0</td>\n      <td>0</td>\n      <td>0</td>\n      <td>0</td>\n      <td>0</td>\n      <td>0</td>\n    </tr>\n    <tr>\n      <th>FSSM</th>\n      <td>0</td>\n      <td>0</td>\n      <td>0</td>\n      <td>0</td>\n      <td>0</td>\n      <td>0</td>\n      <td>0</td>\n      <td>0</td>\n      <td>0</td>\n      <td>0</td>\n      <td>...</td>\n      <td>0</td>\n      <td>0</td>\n      <td>0</td>\n      <td>0</td>\n      <td>0</td>\n      <td>0</td>\n      <td>0</td>\n      <td>0</td>\n      <td>0</td>\n      <td>0</td>\n    </tr>\n    <tr>\n      <th>FSTG</th>\n      <td>1</td>\n      <td>0</td>\n      <td>1</td>\n      <td>0</td>\n      <td>1</td>\n      <td>0</td>\n      <td>1</td>\n      <td>0</td>\n      <td>0</td>\n      <td>0</td>\n      <td>...</td>\n      <td>0</td>\n      <td>0</td>\n      <td>0</td>\n      <td>1</td>\n      <td>0</td>\n      <td>0</td>\n      <td>0</td>\n      <td>1</td>\n      <td>0</td>\n      <td>0</td>\n    </tr>\n    <tr>\n      <th>None</th>\n      <td>0</td>\n      <td>0</td>\n      <td>0</td>\n      <td>0</td>\n      <td>0</td>\n      <td>0</td>\n      <td>0</td>\n      <td>0</td>\n      <td>0</td>\n      <td>0</td>\n      <td>...</td>\n      <td>0</td>\n      <td>0</td>\n      <td>0</td>\n      <td>0</td>\n      <td>0</td>\n      <td>0</td>\n      <td>0</td>\n      <td>0</td>\n      <td>0</td>\n      <td>0</td>\n    </tr>\n    <tr>\n      <th>Other</th>\n      <td>0</td>\n      <td>2</td>\n      <td>0</td>\n      <td>0</td>\n      <td>0</td>\n      <td>0</td>\n      <td>0</td>\n      <td>1</td>\n      <td>1</td>\n      <td>1</td>\n      <td>...</td>\n      <td>1</td>\n      <td>1</td>\n      <td>1</td>\n      <td>0</td>\n      <td>1</td>\n      <td>1</td>\n      <td>1</td>\n      <td>1</td>\n      <td>0</td>\n      <td>0</td>\n    </tr>\n  </tbody>\n</table>\n<p>9 rows × 229 columns</p>\n</div>"
     },
     "execution_count": 10,
     "metadata": {},
     "output_type": "execute_result"
    }
   ],
   "source": [
    "# Create a contingency table using crosstab\n",
    "contingency_table = pd.crosstab(faculty_specialty_df['Faculty'], faculty_specialty_df['Specialty'])\n",
    "# Display the contingency table\n",
    "contingency_table"
   ]
  },
  {
   "cell_type": "code",
   "execution_count": 11,
   "metadata": {
    "ExecuteTime": {
     "end_time": "2023-12-30T20:23:07.641768500Z",
     "start_time": "2023-12-30T20:23:07.574817600Z"
    }
   },
   "outputs": [],
   "source": [
    "contingency_table.to_csv(\"generated/contingency_table--faculty_specialty.csv\")"
   ]
  },
  {
   "cell_type": "code",
   "execution_count": 12,
   "metadata": {
    "ExecuteTime": {
     "end_time": "2023-12-30T20:23:07.797592400Z",
     "start_time": "2023-12-30T20:23:07.613772200Z"
    }
   },
   "outputs": [],
   "source": [
    "faculty_specialty_grouped = [\n",
    "    {\"Faculty\": item[\"faculty\"], \"Specialty\": group}\n",
    "    for item in data\n",
    "    for specialty in [item.strip() for item in item[\"Spciality\"].split(',')]\n",
    "    if len(specialty) > 0\n",
    "    for group, specialties in specialties_groups.items()\n",
    "    if specialty in specialties\n",
    "]\n",
    "\n",
    "df_faculty_specialty_grouped = pd.DataFrame(faculty_specialty_grouped)\n"
   ]
  },
  {
   "cell_type": "code",
   "execution_count": 13,
   "metadata": {
    "ExecuteTime": {
     "end_time": "2023-12-30T20:23:08.201335700Z",
     "start_time": "2023-12-30T20:23:07.673408500Z"
    }
   },
   "outputs": [
    {
     "data": {
      "text/plain": "Specialty  Biology and Agriculture  Chemistry and Materials Science  \\\nFaculty                                                               \nENSA                             1                                0   \nFLESS                            0                                0   \nFMPM                             0                                0   \nFSSM                             1                                0   \nFSTG                             2                                0   \nNone                             0                                0   \nOther                            3                                7   \n\nSpecialty  Computer Science and Technology  Economics  Energy and Environment  \\\nFaculty                                                                         \nENSA                                     0          0                       0   \nFLESS                                    0          1                       0   \nFMPM                                     0          0                       1   \nFSSM                                     3          0                       1   \nFSTG                                     6          0                       0   \nNone                                     0          0                       0   \nOther                                    6          0                       2   \n\nSpecialty  Geology and Earth Sciences  Mathematics and Applied Mathematics  \\\nFaculty                                                                      \nENSA                                0                                    0   \nFLESS                               0                                    0   \nFMPM                                0                                    0   \nFSSM                                1                                    2   \nFSTG                                0                                    0   \nNone                                1                                    0   \nOther                               3                                    5   \n\nSpecialty  Mechanical Engineering and Fluids  Medicine and Health Sciences  \\\nFaculty                                                                      \nENSA                                       0                             0   \nFLESS                                      0                             0   \nFMPM                                       0                             3   \nFSSM                                       1                             1   \nFSTG                                       0                             0   \nNone                                       0                             0   \nOther                                      0                             3   \n\nSpecialty  Physics  \nFaculty             \nENSA             0  \nFLESS            0  \nFMPM             0  \nFSSM             5  \nFSTG             0  \nNone             0  \nOther            3  ",
      "text/html": "<div>\n<style scoped>\n    .dataframe tbody tr th:only-of-type {\n        vertical-align: middle;\n    }\n\n    .dataframe tbody tr th {\n        vertical-align: top;\n    }\n\n    .dataframe thead th {\n        text-align: right;\n    }\n</style>\n<table border=\"1\" class=\"dataframe\">\n  <thead>\n    <tr style=\"text-align: right;\">\n      <th>Specialty</th>\n      <th>Biology and Agriculture</th>\n      <th>Chemistry and Materials Science</th>\n      <th>Computer Science and Technology</th>\n      <th>Economics</th>\n      <th>Energy and Environment</th>\n      <th>Geology and Earth Sciences</th>\n      <th>Mathematics and Applied Mathematics</th>\n      <th>Mechanical Engineering and Fluids</th>\n      <th>Medicine and Health Sciences</th>\n      <th>Physics</th>\n    </tr>\n    <tr>\n      <th>Faculty</th>\n      <th></th>\n      <th></th>\n      <th></th>\n      <th></th>\n      <th></th>\n      <th></th>\n      <th></th>\n      <th></th>\n      <th></th>\n      <th></th>\n    </tr>\n  </thead>\n  <tbody>\n    <tr>\n      <th>ENSA</th>\n      <td>1</td>\n      <td>0</td>\n      <td>0</td>\n      <td>0</td>\n      <td>0</td>\n      <td>0</td>\n      <td>0</td>\n      <td>0</td>\n      <td>0</td>\n      <td>0</td>\n    </tr>\n    <tr>\n      <th>FLESS</th>\n      <td>0</td>\n      <td>0</td>\n      <td>0</td>\n      <td>1</td>\n      <td>0</td>\n      <td>0</td>\n      <td>0</td>\n      <td>0</td>\n      <td>0</td>\n      <td>0</td>\n    </tr>\n    <tr>\n      <th>FMPM</th>\n      <td>0</td>\n      <td>0</td>\n      <td>0</td>\n      <td>0</td>\n      <td>1</td>\n      <td>0</td>\n      <td>0</td>\n      <td>0</td>\n      <td>3</td>\n      <td>0</td>\n    </tr>\n    <tr>\n      <th>FSSM</th>\n      <td>1</td>\n      <td>0</td>\n      <td>3</td>\n      <td>0</td>\n      <td>1</td>\n      <td>1</td>\n      <td>2</td>\n      <td>1</td>\n      <td>1</td>\n      <td>5</td>\n    </tr>\n    <tr>\n      <th>FSTG</th>\n      <td>2</td>\n      <td>0</td>\n      <td>6</td>\n      <td>0</td>\n      <td>0</td>\n      <td>0</td>\n      <td>0</td>\n      <td>0</td>\n      <td>0</td>\n      <td>0</td>\n    </tr>\n    <tr>\n      <th>None</th>\n      <td>0</td>\n      <td>0</td>\n      <td>0</td>\n      <td>0</td>\n      <td>0</td>\n      <td>1</td>\n      <td>0</td>\n      <td>0</td>\n      <td>0</td>\n      <td>0</td>\n    </tr>\n    <tr>\n      <th>Other</th>\n      <td>3</td>\n      <td>7</td>\n      <td>6</td>\n      <td>0</td>\n      <td>2</td>\n      <td>3</td>\n      <td>5</td>\n      <td>0</td>\n      <td>3</td>\n      <td>3</td>\n    </tr>\n  </tbody>\n</table>\n</div>"
     },
     "execution_count": 13,
     "metadata": {},
     "output_type": "execute_result"
    }
   ],
   "source": [
    "# Create a contingency table using crosstab\n",
    "contingency_table2 = pd.crosstab(df_faculty_specialty_grouped['Faculty'], df_faculty_specialty_grouped['Specialty'])\n",
    "# Display the contingency table\n",
    "contingency_table2"
   ]
  },
  {
   "cell_type": "code",
   "execution_count": 14,
   "metadata": {
    "ExecuteTime": {
     "end_time": "2023-12-30T20:23:08.341329Z",
     "start_time": "2023-12-30T20:23:07.763599600Z"
    }
   },
   "outputs": [],
   "source": [
    "contingency_table2.to_csv(\"generated/contingency_table--faculty_specialty-v2.csv\")"
   ]
  },
  {
   "cell_type": "code",
   "execution_count": 14,
   "metadata": {
    "ExecuteTime": {
     "end_time": "2023-12-30T20:23:08.343337200Z",
     "start_time": "2023-12-30T20:23:07.814323400Z"
    }
   },
   "outputs": [],
   "source": []
  }
 ],
 "metadata": {
  "kernelspec": {
   "display_name": "Python 3",
   "language": "python",
   "name": "python3"
  },
  "language_info": {
   "codemirror_mode": {
    "name": "ipython",
    "version": 3
   },
   "file_extension": ".py",
   "mimetype": "text/x-python",
   "name": "python",
   "nbconvert_exporter": "python",
   "pygments_lexer": "ipython3",
   "version": "3.11.4"
  }
 },
 "nbformat": 4,
 "nbformat_minor": 2
}
