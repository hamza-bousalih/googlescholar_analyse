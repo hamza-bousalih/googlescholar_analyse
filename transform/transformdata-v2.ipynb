{
 "cells": [
  {
   "cell_type": "code",
   "execution_count": 373,
   "metadata": {},
   "outputs": [],
   "source": [
    "import json, copy, re\n",
    "import pandas as pd"
   ]
  },
  {
   "cell_type": "code",
   "execution_count": 374,
   "metadata": {},
   "outputs": [],
   "source": [
    "with open(\"uca.json\", 'r') as file:\n",
    "    data = json.load(file)\n",
    "    \n",
    "profiles = copy.deepcopy(data)\n",
    "articles_data = copy.deepcopy(data)"
   ]
  },
  {
   "cell_type": "markdown",
   "metadata": {},
   "source": [
    "# Transform profile Data"
   ]
  },
  {
   "cell_type": "markdown",
   "metadata": {},
   "source": [
    "#### Transform the `Article` and `Spciality`"
   ]
  },
  {
   "cell_type": "code",
   "execution_count": 375,
   "metadata": {},
   "outputs": [],
   "source": [
    "for item in profiles:\n",
    "    item[\"Spciality\"] = \", \".join(item[\"Spciality\"])\n",
    "    item[\"Article\"] = len(item[\"Article\"])\n",
    "\n",
    "profiles_df = pd.DataFrame(profiles)\n",
    "# profiles_df"
   ]
  },
  {
   "cell_type": "code",
   "execution_count": 376,
   "metadata": {},
   "outputs": [],
   "source": [
    "#profiles_df"
   ]
  },
  {
   "cell_type": "markdown",
   "metadata": {},
   "source": [
    "#### Add 'Faculty'"
   ]
  },
  {
   "cell_type": "code",
   "execution_count": 377,
   "metadata": {},
   "outputs": [],
   "source": [
    "from faculty_transform import transform_faculties\n",
    "transform_faculties(profiles)"
   ]
  },
  {
   "cell_type": "code",
   "execution_count": 378,
   "metadata": {},
   "outputs": [],
   "source": [
    "#pd.DataFrame(profiles)"
   ]
  },
  {
   "cell_type": "markdown",
   "source": [
    "# Transform Article Data"
   ],
   "metadata": {
    "collapsed": false
   }
  },
  {
   "cell_type": "code",
   "execution_count": 379,
   "metadata": {},
   "outputs": [],
   "source": [
    "articles = [article for item in articles_data for article in item[\"Article\"]]\n",
    "pd.DataFrame(articles)"
   ]
  },
  {
   "cell_type": "code",
   "outputs": [],
   "source": [
    "def decompose_description(description):\n",
    "    # print(description)\n",
    "    first_digit_index = next((i for i, c in enumerate(description) if c.isdigit()), None)\n",
    "\n",
    "    article_revue = description[:first_digit_index].strip()\n",
    "    remaining_info = description[first_digit_index:].strip()\n",
    "\n",
    "    components = [item.strip() for item in remaining_info.split(',')]\n",
    "    # print(components)\n",
    "    volume_number = \"\"\n",
    "    year = \"\"\n",
    "    pages = \"\"\n",
    "    volume = \"\"\n",
    "    number = \"\"\n",
    "    # Extracting values\n",
    "    if len(components) == 1:\n",
    "        year = components[0]\n",
    "    else:\n",
    "        volume_number = components[0]\n",
    "        if len(components)>2:\n",
    "            pages = components[1]\n",
    "            year = components[2]\n",
    "        else:\n",
    "            pages = \"\"\n",
    "            year = components[1]\n",
    "\n",
    "    # Further splitting volume and number\n",
    "    if volume_number != \"\":\n",
    "        volume_number_ = [part.strip() for part in volume_number.split('(')]\n",
    "        if len(volume_number_) > 1:\n",
    "            volume, number = [part.strip() for part in volume_number.split('(')]\n",
    "        else:\n",
    "            volume = volume_number_[0]\n",
    "            number = \"\"\n",
    "    return {\n",
    "        'Revue': article_revue,\n",
    "        'Volume': volume,\n",
    "        'Number': number.replace(\")\", \"\"),\n",
    "        'Pages': pages,\n",
    "        'Year': year,\n",
    "    }\n",
    "\n",
    "def decompose_articles(articles):\n",
    "    articles_decomposed = []\n",
    "    for article in articles:\n",
    "            desc = article[\"description\"]\n",
    "            information = decompose_description(desc)\n",
    "            author_data = {\n",
    "                \"Article_Title\": article[\"Nom Article\"],\n",
    "                #\"Author\": author,\n",
    "                \"Year\": article[\"Annee\"],\n",
    "                \"Description\": desc,\n",
    "                'Revue': information['Revue'],\n",
    "                'Volume': re.sub(r'\\D', '', information['Volume'].replace(\" …\", \"\")),\n",
    "                #'Volume': information['Volume'].replace(\" …\", \"\"),\n",
    "                'Number': re.sub(r'\\D', '', information['Number']),\n",
    "                #'Number': information['Number'].replace(r\"\\w+\", \"\"),\n",
    "                'Pages': re.sub(r'\\D', '', information['Pages']),\n",
    "                #'Pages': information['Pages'],\n",
    "            }\n",
    "            articles_decomposed.append(author_data)\n",
    "    return articles_decomposed"
   ],
   "metadata": {
    "collapsed": false
   },
   "execution_count": 380
  },
  {
   "cell_type": "code",
   "outputs": [],
   "source": [
    "articles_v2 = decompose_articles(articles)\n",
    "articles_v2_df = pd.DataFrame(articles_v2)\n",
    "columns_to_replace = ['Number', 'Volume', 'Pages']\n",
    "articles_v2_df[columns_to_replace] = articles_v2_df[columns_to_replace].fillna(0)\n",
    "articles_v2"
   ],
   "metadata": {
    "collapsed": false
   },
   "execution_count": 381
  },
  {
   "cell_type": "code",
   "outputs": [],
   "source": [
    "articles_v2_df.to_csv('generated/article_unique_v2.csv', index=False)"
   ],
   "metadata": {
    "collapsed": false
   },
   "execution_count": 382
  }
 ],
 "metadata": {
  "kernelspec": {
   "display_name": "Python 3",
   "language": "python",
   "name": "python3"
  },
  "language_info": {
   "codemirror_mode": {
    "name": "ipython",
    "version": 3
   },
   "file_extension": ".py",
   "mimetype": "text/x-python",
   "name": "python",
   "nbconvert_exporter": "python",
   "pygments_lexer": "ipython3",
   "version": "3.11.4"
  }
 },
 "nbformat": 4,
 "nbformat_minor": 2
}
